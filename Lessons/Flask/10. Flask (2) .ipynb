{
 "cells": [
  {
   "cell_type": "markdown",
   "metadata": {},
   "source": [
    "# Flask (2)\n",
    "\n",
    "## Словари в шаблонах\n",
    "\n",
    "Предположим, у нас есть словарь, в котором хранятся имена наших друзей и их почтовые адреса. И мы хотим выводить эти имена с адресами на нашем сайте. Мы можем написать что-то такое:"
   ]
  },
  {
   "cell_type": "code",
   "execution_count": 4,
   "metadata": {
    "collapsed": true
   },
   "outputs": [],
   "source": [
    "from flask import Flask\n",
    "from flask import render_template\n",
    "\n",
    "app = Flask(__name__)\n",
    "\n",
    "\n",
    "@app.route('/')\n",
    "def index():\n",
    "    emailbook = {'Петя': 'petya@example.com',\n",
    "                 'Вася': 'vasya@example.com',\n",
    "                 'Катя': 'katya@example.com'}\n",
    "    return render_template('index.html', emails=emailbook)\n",
    "\n",
    "if __name__ == '__main__':\n",
    "    app.run()"
   ]
  },
  {
   "cell_type": "markdown",
   "metadata": {},
   "source": [
    "Тогда в папке `templates` нам нужно создать файл `index.html`, в котором будут перебираться элементы словаря. Делается это с помощью функции `items()`. Вот так будет выглядеть `index.html`:"
   ]
  },
  {
   "cell_type": "code",
   "execution_count": null,
   "metadata": {
    "collapsed": true
   },
   "outputs": [],
   "source": [
    "<!DOCTYPE html>\n",
    "<html lang=\"en\">\n",
    "<head>\n",
    "    <meta charset=\"UTF-8\">\n",
    "    <title>Почтовые адреса</title>\n",
    "</head>\n",
    "<body>\n",
    "<h1>Адреса моих друзей</h1>\n",
    "<ul>\n",
    "    {% for name, email in emails.items() %}\n",
    "        <li>{{ name }} - {{ email }}</li>\n",
    "    {% endfor %}\n",
    "</ul>\n",
    "</body>\n",
    "</html>"
   ]
  },
  {
   "cell_type": "markdown",
   "metadata": {},
   "source": [
    "## Перенаправление\n",
    "\n",
    "Для того, чтобы направить пользователя на другую страницу, используется функция `redirect`. Например, вот приложение, в котором есть страница /time. С помощью функции `redirect` можно, например, реализовать такое:\n",
    "\n",
    "- если пользователь заходит на страницу /time в рабочее время (с 10 до 18), то он перенаправляется на главную страницу сайта,\n",
    "- если пользователь заходит на страницу в другое время, то он перенаправляется на страницу /hi."
   ]
  },
  {
   "cell_type": "code",
   "execution_count": null,
   "metadata": {
    "collapsed": true
   },
   "outputs": [],
   "source": [
    "import datetime\n",
    "\n",
    "from flask import Flask\n",
    "from flask import url_for, render_template, request, redirect\n",
    "\n",
    "app = Flask(__name__)\n",
    "\n",
    "\n",
    "@app.route('/')\n",
    "def index():\n",
    "    return '<html><body><h1>Привет, мир!</h1></body></html>'\n",
    "\n",
    "\n",
    "@app.route('/hi')\n",
    "@app.route('/hi/<user>')\n",
    "def hi(user=None):\n",
    "    if user is None:\n",
    "        user = 'friend'\n",
    "    return '<html><body><p>Привет, ' + user + '!</p></body></html>'\n",
    "\n",
    "\n",
    "@app.route('/time')\n",
    "def time_redirect():\n",
    "    h = datetime.datetime.today().hour\n",
    "    if 10 < h < 18:\n",
    "        return redirect(url_for('index'))\n",
    "    return redirect(url_for('hi'))\n",
    "\n",
    "\n",
    "if __name__ == '__main__':\n",
    "    app.run(debug=True)"
   ]
  },
  {
   "cell_type": "markdown",
   "metadata": {},
   "source": [
    "Когда вы пишете сайт на фласке у себя на компьютере, можно написать вместо `app.run()` вот так: `app.run(debug=True)` (см. выше последнюю строчку). Это значит, что если на сайте возникнет ошибка, то на странице с ошибкой выведется ее описание, и вы легко сможете понять, в каком месте кода все падает. Но когда вы будете выкладывать сайт в Интернет, нужно убедиться, что `debug` отключен.\n",
    "\n",
    "## Как вывести на веб-страничку содержимое текстового файла?"
   ]
  },
  {
   "cell_type": "code",
   "execution_count": 10,
   "metadata": {},
   "outputs": [],
   "source": [
    "from flask import Flask\n",
    "from flask import url_for, render_template, request, redirect\n",
    "\n",
    "app = Flask(__name__)\n",
    "\n",
    "@app.route('/poem')\n",
    "def poem():\n",
    "    with open(\"poem.txt\", \"r\", encoding='utf-8') as f:\n",
    "        content = f.read().split('\\n')\n",
    "    return render_template(\"poem.html\", content=content)\n",
    "\n",
    "if __name__ == '__main__':\n",
    "    app.run(debug=True)"
   ]
  },
  {
   "cell_type": "code",
   "execution_count": 8,
   "metadata": {},
   "outputs": [],
   "source": [
    "<!DOCTYPE html>\n",
    "<html lang=\"ru\">\n",
    "<head>\n",
    "    <meta charset=\"UTF-8\">\n",
    "    <title>Зимнее утро</title>\n",
    "</head>\n",
    "<body>\n",
    "    <p>\n",
    "    {%for i in content%}\n",
    "        {{i}}\n",
    "        <br>\n",
    "    {%endfor%}\n",
    "    </p>\n",
    "</body>\n",
    "</html>"
   ]
  },
  {
   "cell_type": "markdown",
   "metadata": {},
   "source": [
    "## Задание для тренировки\n",
    "\n",
    "Скачайте из репозитория [список языковых кодов](https://github.com/elmiram/2016learnpython/blob/master/data/lang_codes.csv). \n",
    "После этого нужно создать сайт, в котором:\n",
    "1. На главной странице выводится список языков и их кодов (`127.0.0.1:5000`),\n",
    "2. Если зайти на страницу вида `127.0.0.1:5000/codes/какие-то_буквы`, то на этой странице выведется список только тех языков, коды которых начинаются с этих букв. Например, если зайти на `127.0.0.1:5000/codes/jp`, то выведется японский и еврейско-персидский, а если зайти на `127.0.0.1:5000/codes/j`, то японский, еврейско-персидский, еврейско-арабский и яванский.\n",
    "3. Есть форма на странице `127.0.0.1:5000/form`, в которой есть поле \"Язык\". В это поле пользователь будет вводить название языка, например \"японский\". Когда пользователь нажимает кнопку \"Отправить\", \n",
    "    * если введенного языка нет в списке, пользователь попадает на страницу `127.0.0.1:5000/not_found` с соответствующим сообщением,\n",
    "    * если введенный язык есть в списке, пользователь должен попасть на страницу `127.0.0.1:5000/lang/код_языка`. На этой странице должно выводиться следующее: название введенного языка, код введенного языка, названия всех языков, код которых начинается на ту же букву.\n",
    "4. На всех страницах есть кликабельная ссылка на главную и на страницу с формой.\n",
    "\n",
    "Пример сайта на фласке есть в репозитории [вот тут](https://github.com/ancatmara/learnpython2017/tree/master/%D0%A1%D0%B5%D0%BC%D0%B8%D0%BD%D0%B0%D1%80%D1%8B/flask_example). Там есть примеры использования всех функций фласка, которые мы проходили. (*Туда можно подглядывать.*)"
   ]
  }
 ],
 "metadata": {
  "kernelspec": {
   "display_name": "Python 3",
   "language": "python",
   "name": "python3"
  },
  "language_info": {
   "codemirror_mode": {
    "name": "ipython",
    "version": 3
   },
   "file_extension": ".py",
   "mimetype": "text/x-python",
   "name": "python",
   "nbconvert_exporter": "python",
   "pygments_lexer": "ipython3",
   "version": "3.6.6"
  }
 },
 "nbformat": 4,
 "nbformat_minor": 1
}
