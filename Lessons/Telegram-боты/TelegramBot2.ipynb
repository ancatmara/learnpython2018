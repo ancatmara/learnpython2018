{
 "cells": [
  {
   "cell_type": "markdown",
   "metadata": {},
   "source": [
    "# Чатботы 2\n",
    "\n",
    "В прошлый раз мы научились писать очень простого бота: он умеет получать сообщение и отправлять в ответ его же или, например, его длину. \n",
    "\n",
    "Но возможностей у ботов гораздо больше, и как ими пользоваться описано в [документации модуля](https://github.com/eternnoir/pyTelegramBotAPI#general-api-documentation)."
   ]
  },
  {
   "cell_type": "markdown",
   "metadata": {},
   "source": [
    "## Обработчики сообщений\n",
    "Мы с вами видели вот такой код:"
   ]
  },
  {
   "cell_type": "code",
   "execution_count": null,
   "metadata": {
    "collapsed": true
   },
   "outputs": [],
   "source": [
    "@bot.message_handler(commands=['start', 'help'])\n",
    "def send_welcome(message):\n",
    "\tbot.send_message(message.chat.id, \"Здравствуйте! Это бот, который считает длину вашего сообщения.\")"
   ]
  },
  {
   "cell_type": "markdown",
   "metadata": {},
   "source": [
    "Внутри декоратора `@bot.message_handler(...)` могут находиться фильтры, которые описывают, на какие сообщения реагирует данная функция. Фильтры пишутся так: сначала название фильтра, затем через знак равно его значение. Бывают фильтры четырех типов:\n",
    "* `content_types`, значением является массив строк, задающих тип контента - текст, аудио, файл, стикер и т.д. (по умолчанию ['text'])\n",
    "* `regexp`, значением является регулярное выражение (строка)\n",
    "* `commands`, значением является массив строк, задающих команды без знака /\n",
    "* `func`, значением является какая-то функция\n",
    "\n",
    "Что бывает, когда боту приходит сообщение, которое подходит под несколько наших фильтров, т.е. несколько разных функций? В этом случае запускается функция, которая в вашем коде написана раньше других. \n",
    "\n",
    "[Примеры обработчиков](https://github.com/eternnoir/pyTelegramBotAPI#message-handlers)"
   ]
  },
  {
   "cell_type": "markdown",
   "metadata": {},
   "source": [
    "# Отправка сообщений\n",
    "\n",
    "Для отправки разных типов сообщений и разного контента используются разные функции.\n",
    "Отправка текста:"
   ]
  },
  {
   "cell_type": "code",
   "execution_count": null,
   "metadata": {
    "collapsed": true
   },
   "outputs": [],
   "source": [
    "# ответить на сообщение (с цитированием)\n",
    "tb.reply_to(message, text)\n",
    "\n",
    "# отправить текст в чат по ID\n",
    "tb.send_message(chat_id, text)\n",
    "\n",
    "# переслать данное сообщение из одного чата в другой\n",
    "tb.forward_message(to_chat_id, from_chat_id, message_id)"
   ]
  },
  {
   "cell_type": "markdown",
   "metadata": {},
   "source": [
    "Отправка файлов (из документации):"
   ]
  },
  {
   "cell_type": "code",
   "execution_count": null,
   "metadata": {
    "collapsed": true
   },
   "outputs": [],
   "source": [
    "# All send_xyz functions which can take a file as an argument, can also take a file_id instead of a file.\n",
    "# sendPhoto\n",
    "photo = open('/tmp/photo.png', 'rb')\n",
    "tb.send_photo(chat_id, photo)\n",
    "tb.send_photo(chat_id, \"FILEID\")\n",
    "\n",
    "# sendAudio\n",
    "audio = open('/tmp/audio.mp3', 'rb')\n",
    "tb.send_audio(chat_id, audio)\n",
    "tb.send_audio(chat_id, \"FILEID\")\n",
    "\n",
    "## sendAudio with duration, performer and title.\n",
    "tb.send_audio(CHAT_ID, file_data, 1, 'eternnoir', 'pyTelegram')\n",
    "\n",
    "# sendVoice\n",
    "voice = open('/tmp/voice.ogg', 'rb')\n",
    "tb.send_voice(chat_id, voice)\n",
    "tb.send_voice(chat_id, \"FILEID\")\n",
    "\n",
    "# sendDocument\n",
    "doc = open('/tmp/file.txt', 'rb')\n",
    "tb.send_document(chat_id, doc)\n",
    "tb.send_document(chat_id, \"FILEID\")\n",
    "\n",
    "# sendSticker\n",
    "sti = open('/tmp/sti.webp', 'rb')\n",
    "tb.send_sticker(chat_id, sti)\n",
    "tb.send_sticker(chat_id, \"FILEID\")\n",
    "\n",
    "# sendVideo\n",
    "video = open('/tmp/video.mp4', 'rb')\n",
    "tb.send_video(chat_id, video)\n",
    "tb.send_video(chat_id, \"FILEID\")\n",
    "\n",
    "# sendLocation\n",
    "tb.send_location(chat_id, lat, lon)\n",
    "\n",
    "# sendChatAction\n",
    "# action_string can be one of the following strings: 'typing', 'upload_photo', 'record_video', 'upload_video',\n",
    "# 'record_audio', 'upload_audio', 'upload_document' or 'find_location'.\n",
    "tb.send_chat_action(chat_id, action_string)\n",
    "\n",
    "# getFile\n",
    "# Downloading a file is straightforward\n",
    "# Returns a File object\n",
    "import requests\n",
    "file_info = tb.get_file(file_id)\n",
    "\n",
    "file = requests.get('https://api.telegram.org/file/bot{0}/{1}'.format(API_TOKEN, file_info.file_path))"
   ]
  },
  {
   "cell_type": "markdown",
   "metadata": {},
   "source": [
    "# Клавиатура\n",
    "\n",
    "Можно отправлять пользователю специальную клавиатуру для ответа или интерактивные кнопки. Клавиатуру можно добавить во все функции, которые начинаются со слова `send_` например так: `tb.send_message(chat_id, text, reply_markup=keyboard)`. При этом `keyboard` - это объект `ReplyKeyboardMarkup`, `ReplyKeyboardRemove` или `ForceReply`. Рассмотрим `ReplyKeyboardMarkup`:"
   ]
  },
  {
   "cell_type": "code",
   "execution_count": null,
   "metadata": {
    "collapsed": true
   },
   "outputs": [],
   "source": [
    "from telebot import types\n",
    "\n",
    "# создаем клавиатуру\n",
    "keyboard = types.ReplyKeyboardMarkup(row_width=2)  # row_width говорит сколько кнопок должно поместиться в одном ряду\n",
    "# добавляем кнопки\n",
    "btn1 = types.KeyboardButton('да')\n",
    "btn2 = types.KeyboardButton('нет')\n",
    "btn3 = types.KeyboardButton('не знаю')\n",
    "keyboard.add(btn1, btn2, btn3)\n",
    "# отправляем\n",
    "tb.send_message(chat_id, \"Вы студент?\", reply_markup=keyboard)\n",
    "\n",
    "\n",
    "# Можно создавать каджый ряд отдельно\n",
    "# создаем клавиатуру \n",
    "keyboard = types.ReplyKeyboardMarkup()  # здесь нет row_width !!!\n",
    "# создаем кнопки\n",
    "btn1 = types.KeyboardButton('red')\n",
    "btn2 = types.KeyboardButton('blue')\n",
    "btn3 = types.KeyboardButton('green')\n",
    "btn4 = types.KeyboardButton('brown')\n",
    "btn5 = types.KeyboardButton('black')\n",
    "# добавляем ряды кнопок в клавиатуру\n",
    "keyboard.row(btn1, btn2, btn3)\n",
    "keyboard.row(bnt4, btn5)\n",
    "# отправляем\n",
    "tb.send_message(chat_id, \"Choose color:\", reply_markup=keyboard)"
   ]
  },
  {
   "cell_type": "markdown",
   "metadata": {},
   "source": [
    "[Больше про кнопки в документации](https://github.com/eternnoir/pyTelegramBotAPI#reply-markup) и в [туториале](https://groosha.gitbooks.io/telegram-bot-lessons/content/chapter8.html)"
   ]
  },
  {
   "cell_type": "markdown",
   "metadata": {},
   "source": [
    "# Пример бота: разметка\n",
    "\n",
    "Предположим у вас есть тысячи отзывов на кинофильмы, и вам нужно их разметить как \"положительные\", \"отрицательные\" или \"нейтральные\". Вы можете сделать бота, который будет отправлять юзеру какой-то отзыв из нашего списка и клавиатуру с кнопками \"+\", \"-\", \"=\", а затем бот будет записывать ответы. Бота мы можем отправить друзьям, чтобы они помогли нам с разметкой=)\n",
    "\n",
    "(строчки, связанные с фласком, в коде ниже отсутствуют)\n",
    "Смотрим пример:"
   ]
  },
  {
   "cell_type": "code",
   "execution_count": null,
   "metadata": {
    "collapsed": true
   },
   "outputs": [],
   "source": [
    "# -*- coding: utf-8 -*-\n",
    "# импортируем модули\n",
    "import telebot\n",
    "import conf\n",
    "import random\n",
    "import shelve\n",
    "from telebot import types\n",
    "\n",
    "bot = telebot.TeleBot(conf.TOKEN, threaded=False)\n",
    "\n",
    "# предположим, отзывы у нас хранятся в виде csv-файла с номерами отзывов и собственно текстами\n",
    "with open('/home/2016learnpython/myapp/reviews.csv', 'r', encoding='utf-8') as f:\n",
    "    reviews = {}  # создадим словать отзывов\n",
    "    for line in f:\n",
    "        num, text = line.strip().split('\\t')\n",
    "        reviews[num] = text\n",
    "review_keys = list(reviews.keys())  # и отдельно массив ключей\n",
    "\n",
    "\n",
    "# собираем клавиатуру для разметки (возможно имеет смысл добавить кнопку \"не знаю\"?)\n",
    "keyboard = types.ReplyKeyboardMarkup(row_width=3)\n",
    "btn1 = types.KeyboardButton('+')\n",
    "btn2 = types.KeyboardButton('-')\n",
    "btn3 = types.KeyboardButton('=')\n",
    "keyboard.add(btn1, btn2, btn3)\n",
    "\n",
    "\n",
    "# shelve используется как мини-база данных, там можно хранить файлы в виде \"ключ-значение\"\n",
    "# в этой базе мы будем хранить информацию о том, какой отзыв мы недавно прислали юзеру\n",
    "shelve_name = '/home/USERNAME/myapp/shelve.db'  # Файл с хранилищем\n",
    "\n",
    "\n",
    "def set_user_review(chat_id, review):\n",
    "    \"\"\"\n",
    "    Записываем юзера в базу данных и запоминаем номер отзыва, который мы ему дали\n",
    "    \"\"\"\n",
    "    with shelve.open(shelve_name) as storage:\n",
    "        storage[str(chat_id)] = review\n",
    "\n",
    "\n",
    "def get_user_review(chat_id):\n",
    "    \"\"\"\n",
    "    Вспоминаем, какой отзыв мы отправили на разметку\n",
    "    :return: (str) Номер отзыва / None\n",
    "    \"\"\"\n",
    "    with shelve.open(shelve_name) as storage:\n",
    "        try:\n",
    "            review = storage[str(chat_id)]\n",
    "            return review\n",
    "        # Если человека нет в базе, ничего не возвращаем\n",
    "        except KeyError:\n",
    "            return None\n",
    "\n",
    "# этот обработчик запускает функцию send_welcome, когда пользователь отправляет команду /help\n",
    "@bot.message_handler(commands=['help'])\n",
    "def send_welcome(message):\n",
    "    bot.send_message(message.chat.id, \"Здравствуйте! Это бот для разметки отзывов на кинофильмы.\\n Положительные отзывы отмечаются плюсом +, отрицательные минусом -, а нейтральные знаком равно =.\")\n",
    "\n",
    "\n",
    "# этот обработчик запускает функцию, когда пользователь отправляет команду /start\n",
    "@bot.message_handler(commands=['start'])\n",
    "def send_first_review(message):\n",
    "    review_num = random.choice(review_keys)\n",
    "    bot.send_message(message.chat.id, reviews[review_num], reply_markup=keyboard)\n",
    "    set_user_review(message.chat.id, review_num)\n",
    "\n",
    "\n",
    "@bot.message_handler(regexp='[-+=]')  # этот обработчик реагирует на символы разметки и записывает результаты\n",
    "def get_answer(message):\n",
    "    review_num = get_user_review(message.chat.id)  # проверяем, есть ли юзер в базе данных\n",
    "    if review_num:\n",
    "        # если есть, открываем файл с результатами и записываем туда разметку\n",
    "        with open('/home/USERNAME/myapp/results.csv', 'a', encoding='utf-8') as results:\n",
    "            results.write(review_num + '\\t' + message.text + '\\n')\n",
    "        # и сразу отправляем новый отзыв\n",
    "        review_num = random.choice(review_keys)\n",
    "        bot.send_message(message.chat.id, reviews[review_num], reply_markup=keyboard)\n",
    "        set_user_review(message.chat.id, review_num)\n",
    "    else:\n",
    "        # если нет, то что-нибудь говорим об этом\n",
    "        bot.send_message(message.chat.id, 'Вы не разметили отзыв.')\n"
   ]
  },
  {
   "cell_type": "markdown",
   "metadata": {},
   "source": [
    "## Задания\n",
    "1) Попробуйте запустить этого бота у себя на компьютере.\n",
    "\n",
    "2) Добавьте функции, которые позволят пользователю завершить разметку по команде \"`/stop`\" и удалиться из базы данных.\n",
    "\n",
    "3) Попробуйте сделать так, чтобы пользователю отправлялись только те отзывы, которые еще не были размечены ни разу."
   ]
  }
 ],
 "metadata": {
  "kernelspec": {
   "display_name": "Python 3",
   "language": "python",
   "name": "python3"
  },
  "language_info": {
   "codemirror_mode": {
    "name": "ipython",
    "version": 3
   },
   "file_extension": ".py",
   "mimetype": "text/x-python",
   "name": "python",
   "nbconvert_exporter": "python",
   "pygments_lexer": "ipython3",
   "version": "3.5.3"
  }
 },
 "nbformat": 4,
 "nbformat_minor": 1
}
