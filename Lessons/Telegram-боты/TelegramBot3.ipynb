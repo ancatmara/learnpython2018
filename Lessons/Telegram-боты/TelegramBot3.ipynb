{
 "cells": [
  {
   "cell_type": "markdown",
   "metadata": {},
   "source": [
    "# Чатботы 3\n",
    "\n",
    "В этот раз мы разберем пример бота: [TedBot](https://telegram.me/tedcombot) - бот, который по ключевым словам находит видео с [Ted.com](https://www.ted.com/) и отправляет ссылку на него.\n",
    "\n",
    "Что нужно, чтобы написать такого бота?\n",
    "\n",
    "## Данные - видео с TED\n",
    "Во-первых нужна информация о видео, доступных на Ted.com - в частности, ссылки на видео и их описание. Можно написать краулер, который обкачивает сайт и собирает всю информацию, но иногда жизнь оказывается проще.  В сети есть открытый и регулярно обновляемый [гуглдок](https://docs.google.com/spreadsheets/d/1Yv_9nDl4ocIZR0GXU3OZuBaXxER1blfwR_XHvklPpEM/edit?hl=en&hl=en&hl=en#gid=0), в котором уже записана вся необходимая информация: ссылка на видео, автор, заголовок, описание, тэги, дата выступления и т.д. \n",
    "\n",
    "Скачиваем гуглдок в формате tsv (tab separated values) и обрабатываем его, как нам нужно. Например, нам удобно хранить всю информацию в виде json, так что сохраним всю информацию в файл `database.json`."
   ]
  },
  {
   "cell_type": "code",
   "execution_count": null,
   "metadata": {
    "collapsed": true
   },
   "outputs": [],
   "source": [
    "\"\"\"\n",
    "Read datatable and create a json file.\n",
    "\"\"\"\n",
    "import json\n",
    "\n",
    "with open('database.tsv', 'r', encoding='utf-8') as f:\n",
    "    d = {}\n",
    "    talk_id = 1\n",
    "    for line in f.readlines()[1:]:\n",
    "        line = line.split('\\t')\n",
    "        d[talk_id] = {}\n",
    "        d[talk_id]['URL'] = line[1]\n",
    "        d[talk_id]['speaker_name'] = line[2]\n",
    "        d[talk_id]['headline'] = line[3]\n",
    "        d[talk_id]['description'] = line[4]\n",
    "        d[talk_id]['event'] = line[5]\n",
    "        d[talk_id]['duration'] = line[6]\n",
    "        d[talk_id]['primary_language'] = line[7]\n",
    "        d[talk_id]['published'] = line[8]\n",
    "        d[talk_id]['tags'] = line[9].rstrip().split(',')\n",
    "        talk_id += 1\n",
    "\n",
    "with open('database.json', 'w', encoding='utf-8') as f2:\n",
    "    json.dump(d, f2, indent=2)\n"
   ]
  },
  {
   "cell_type": "markdown",
   "metadata": {},
   "source": [
    "## Работа с API - извлечение ключевых слов\n",
    "Во-вторых, нужно как-то находить ключевые слова. Идея состоит в том, чтобы пользователь написал что-то вроде \"Hey, I'd like to watch something inspirational about language or linguistics\" и ему в ответ приходит ссылка на подходящее видео. Извлечение ключевых слов в тексте - вполне лингвистическая задача, и мы можем написать код, который это делает. А можем воспользоваться уже готовыми решениями. \n",
    "\n",
    "Одним из таких решений являются когнитивные сервисы от Microsoft (Microsoft Cognitive Services) - набор API для работы с готовыми машиннообученными моделями Microsoft. Например, там есть API для работы с изображениями - посылаешь картинку или видео, а в ответ приходит информация о том, что там изображено, а если там изображены люди, то сколько им лет и какие у них эмоции и т.д. Ну и еще там есть лингвистические API: обработка речи, извлечение сущностей, спеллчекинг, сентимент-анализ, перевод, ну и извлечение ключевых слов.\n",
    "\n",
    "Как работают API мы уже с вами поняли на примере ВК и Телеграма: регистрируешься и получаешь токен доступа, посылаешь запрос по специальной ссылке и получаешь ответ в каком-то заданном виде, например, json. Когнитивные сервисы работают точно так же.\n",
    "\n",
    "Чтобы получить токен, нужно зарегистрироваться: [например, тут](https://azure.microsoft.com/en-us/try/cognitive-services/) найти Text Analytics API, нажать Create и зарегистрироваться (можно использовать свой аккаунт на GitHub, это занимает 1 минуту). После этого вы получаете ключ для бесплатной работы с Text Analytics API сроком на 90 дней. \n",
    "\n",
    "Когда у нас есть ключ, можно работать с API. В коде ниже первая функция `get_key_words` собирает post-запрос, вместо того чтобы включать параметры запроса в саму ссылку, мы передаем запрос в виде json. Вторая функция `process_request` собственно отправляет запрос и получает ответ: если код 200 - возвращает данные, если нет - печатает код ошибки и возвращает None."
   ]
  },
  {
   "cell_type": "code",
   "execution_count": null,
   "metadata": {
    "collapsed": true
   },
   "outputs": [],
   "source": [
    "def get_key_words(text):\n",
    "    \"\"\"\n",
    "    Get key phrases from text using Cognitive Services API.\n",
    "    Args:\n",
    "        text: string with a text in English\n",
    "    Returns:\n",
    "        a list of key phrases or None\n",
    "    \"\"\"\n",
    "    headers = dict()\n",
    "    headers['Ocp-Apim-Subscription-Key'] = config.KEYWORDS_KEY   # config.KEYWORDS_KEY stands for YOUR API KEY\n",
    "    headers['Content-Type'] = 'application/json'\n",
    "    params = None\n",
    "    json_data = {\n",
    "        \"documents\": [\n",
    "            {\n",
    "                \"language\": \"en\",\n",
    "                \"id\": 'string',\n",
    "                \"text\": text\n",
    "            }\n",
    "        ]\n",
    "    }\n",
    "    data = None\n",
    "    time.sleep(random.choice([1, 2, 3, 4, 5, 6, 8, 10, 17, 15, 20]))\n",
    "    \n",
    "    # config.KEYWORDS_URL stands for 'https://westus.api.cognitive.microsoft.com/text/analytics/v2.0/keyPhrases'\n",
    "    # this is the URL where we send our request\n",
    "    result = process_request('post', config.KEYWORDS_URL, json_data, data, headers, params)\n",
    "    if result and 'documents' in result:\n",
    "        return result['documents'][0][\"keyPhrases\"]\n",
    "    return None\n",
    "\n",
    "\n",
    "def process_request(method, url, json, data, headers, params):\n",
    "    \"\"\"\n",
    "    Helper function to process the request\n",
    "    \"\"\"\n",
    "    result = None\n",
    "    response = requests.request(method, url, json=json, data=data, headers=headers, params=params)\n",
    "\n",
    "    if response.status_code == 200:\n",
    "\n",
    "        if 'content-length' in response.headers and int(response.headers['content-length']) == 0:\n",
    "            result = None\n",
    "        elif 'content-type' in response.headers and isinstance(response.headers['content-type'], str):\n",
    "            if 'application/json' in response.headers['content-type'].lower():\n",
    "                result = response.json() if response.content else None\n",
    "\n",
    "    else:\n",
    "        print(\"Error code: %d\" % (response.status_code))\n",
    "        print(response.json())\n",
    "\n",
    "    return result"
   ]
  },
  {
   "cell_type": "markdown",
   "metadata": {},
   "source": [
    "Дополнительно можно посмотреть:\n",
    "* [Демо извлечения ключевых слов с API](https://azure.microsoft.com/ru-ru/services/cognitive-services/text-analytics/)\n",
    "* [Quick Start](https://docs.microsoft.com/en-us/azure/cognitive-services/text-analytics/quick-start) \n",
    "* [описание API](https://westus.dev.cognitive.microsoft.com/docs/services/TextAnalytics.V2.0/operations/56f30ceeeda5650db055a3c6)\n"
   ]
  },
  {
   "cell_type": "markdown",
   "metadata": {},
   "source": [
    "## Вспомогательные файлы и функции\n",
    "Теперь, когда мы умеем находить ключевые слова и у нас есть данные, можем писать бота. Начнем с файла `config.py`, в котором будут храниться токены:"
   ]
  },
  {
   "cell_type": "code",
   "execution_count": null,
   "metadata": {
    "collapsed": true
   },
   "outputs": [],
   "source": [
    "TOKEN = '==='  # токен бота от BotFather\n",
    "\n",
    "# это пути к файлам, которые мы будем использовать\n",
    "DATA = '/data/database.json'  # база видео\n",
    "TAGLIST = '/data/taglist.txt'  # список тэгов к видео\n",
    "\n",
    "KEYWORDS_URL = 'https://westus.api.cognitive.microsoft.com/text/analytics/v2.0/keyPhrases'  # ссылка, куда мы отправляем запрос\n",
    "KEYWORDS_KEY = '==='  # ключ к Text Analytics API \n",
    "\n",
    "WEBHOOK_HOST = '==='  # адрес нашего приложения в интернете\n",
    "WEBHOOK_PORT = '443'"
   ]
  },
  {
   "cell_type": "markdown",
   "metadata": {},
   "source": [
    "Напишем еще две вспомогательные штуки: класс Video и функцию, которая читает нашу базу данных. "
   ]
  },
  {
   "cell_type": "code",
   "execution_count": null,
   "metadata": {
    "collapsed": true
   },
   "outputs": [],
   "source": [
    "import json\n",
    "import config\n",
    "import os\n",
    "\n",
    "DIR = os.path.dirname(os.path.realpath(__file__))\n",
    "\n",
    "# Классы мы будем проходить на 3м курсе, но сейчас достаточно понять, что наш класс работает как словарь: \n",
    "# в данном случае мы там храним те же ключи и значения, что в словаре, но записывать это можем короче\n",
    "class Video:\n",
    "    \"\"\"\n",
    "    Store data for one ted talk from database.\n",
    "    \"\"\"\n",
    "    def __init__(self, values):\n",
    "        vars(self).update(values)\n",
    "\n",
    "\n",
    "def read_data():\n",
    "    \"\"\"\n",
    "    Create an array of Video instances: one instance for each ted talk.\n",
    "    Returns:\n",
    "        list of Video instances\n",
    "    \"\"\"\n",
    "    with open(DIR + config.DATA, 'r', encoding='utf-8') as f:\n",
    "        database = json.load(f)\n",
    "    arr = []\n",
    "    for i in database:\n",
    "        arr.append(Video(database[i]))\n",
    "    return arr"
   ]
  },
  {
   "cell_type": "markdown",
   "metadata": {},
   "source": [
    "Функция `read_data()` возвращает массив из элементов Video, у каждого из этих элементов есть атрибуты url, speaker_name, headline, description, event, duration, primary_language, published, tags. Это значит, что мы можем обращаться к этим значениям через точку: "
   ]
  },
  {
   "cell_type": "code",
   "execution_count": null,
   "metadata": {
    "collapsed": true
   },
   "outputs": [],
   "source": [
    "video = read_data()[0]  # первое видео из массива\n",
    "print(video.headline)  # распечатает название первого видео"
   ]
  },
  {
   "cell_type": "markdown",
   "metadata": {},
   "source": [
    "## Бот\n",
    "\n",
    "Начинаем бота. Функции `read_data` и `get_key_words` мы записали в файл `utils.py`.\n",
    "\n",
    "Бот получает сообщение и отправляет его в функцию `get_key_words`, которая возвращает массив ключевых слов, если они нашлись, или `None`. Если ключевые слова нашлись, мы отправляем их в `tag_search` и `description_search` - это две функции, которые проходят по массиву с видео и проверяют, есть ли ключевые слова среди тэгов или среди описания. Ну и наконец результат попадает в функцию `send_video`, которая собирает сообщение пользователю. "
   ]
  },
  {
   "cell_type": "code",
   "execution_count": null,
   "metadata": {
    "collapsed": true
   },
   "outputs": [],
   "source": [
    "# -*- coding: utf-8 -*-\n",
    "import telebot\n",
    "import random\n",
    "\n",
    "import config\n",
    "\n",
    "from utils import read_data, get_key_words\n",
    "from collections import defaultdict\n",
    "\n",
    "\n",
    "DATABASE = read_data()  # actually, not a database - just a list of Video instances\n",
    "\n",
    "bot = telebot.TeleBot(config.TOKEN, threaded=False)\n",
    "\n",
    "\n",
    "@bot.message_handler(content_types=[\"text\"])  # reacts to any text message\n",
    "def get_video_by_text(message):  \n",
    "    kw = get_key_words(message.text)\n",
    "    to_search = message.text\n",
    "    if kw:\n",
    "        to_search = ','.join(kw)\n",
    "    video = tag_search(to_search)\n",
    "    if video is None:\n",
    "        video = description_search(to_search)\n",
    "    send_video(message.chat.id, video)\n",
    "\n",
    "\n",
    "def send_video(chat_id, video):\n",
    "    \"\"\"\n",
    "    Send info about ted talk and URL to user or say that nothing was found.\n",
    "    Args:\n",
    "        chat_id:  id of a telegram chat\n",
    "        video:  Video instance\n",
    "    \"\"\"\n",
    "    if not video:\n",
    "        bot.send_message(chat_id, 'Nothing found')\n",
    "    else:\n",
    "        collect_message = 'This is what I found:\\n\\n'\n",
    "        collect_message += video.headline + '\\r\\nBy ' + video.speaker_name + ' \\r\\n\\r\\n'\n",
    "        collect_message += 'Tags in video: ' + ', '.join(video.tags) + ' \\r\\n\\r\\n'\n",
    "        collect_message += 'Description: ' + video.description + '\\r\\n\\r\\n'\n",
    "        bot.send_message(chat_id, collect_message + video.URL)\n",
    "\n",
    "    \n",
    "def tag_search(q):\n",
    "    \"\"\"\n",
    "    Find a ted-talk that has query words among its tags.\n",
    "    Args:\n",
    "        q: string with user query\n",
    "    Returns:\n",
    "        Video instance or None\n",
    "    \"\"\"\n",
    "    q = q.lower()\n",
    "    q = [i.strip() for i in q.split(',')]\n",
    "    d = defaultdict(int)\n",
    "    for video in DATABASE:\n",
    "        for n in q:\n",
    "            if n in video.tags:\n",
    "                d[video] += 1\n",
    "    if d:\n",
    "        arr = []\n",
    "        bestchoice = d[sorted(d, key=d.get, reverse=True)[0]]\n",
    "        if bestchoice == 0:\n",
    "            return None\n",
    "        for i in d:\n",
    "            if d[i] == bestchoice:\n",
    "                arr.append(i)\n",
    "        return random.choice(arr)\n",
    "\n",
    "\n",
    "def description_search(q):\n",
    "    \"\"\"\n",
    "    Find a ted-talk that has query words among in its description.\n",
    "    Args:\n",
    "        q: string with user query\n",
    "    Returns:\n",
    "        Video instance or None\n",
    "    \"\"\"\n",
    "    words = [i.strip().lower() for i in q.split(',')]\n",
    "    arr = []\n",
    "    for video in DATABASE:\n",
    "        if all(i in video.description.lower() or i in video.tags for i in words):\n",
    "            arr.append(video)\n",
    "    if len(arr) != 0:\n",
    "        return random.choice(arr)"
   ]
  },
  {
   "cell_type": "markdown",
   "metadata": {},
   "source": [
    "Хорошая идея держать все сообщения, которые бот может отправлять пользователю в отдельном файле. А еще можно придумать несколько разных реплик под одну ситуацию и выдавать каждый раз случайную. Например, когда бот что-то нашел, он может сказать \"Смотри, что я нашел!\" или \"Надеюсь, тебе понравится вот это\" или \"Вот твое видео\". Создадим файл `phrases.py` и будем хранить там массивы с репликами на все случаи жизни:"
   ]
  },
  {
   "cell_type": "code",
   "execution_count": null,
   "metadata": {
    "collapsed": true
   },
   "outputs": [],
   "source": [
    "\"\"\"\n",
    "List all phrases that a bot can say to user.\n",
    "\"\"\"\n",
    "\n",
    "russian = ['Ya ne ponimau po-russki. :(',\n",
    "           'Sorry, no Russian.',\n",
    "           'Ghbdtn! Please use English.',\n",
    "           \"Do you speak English? Because I do.\"]\n",
    "\n",
    "topics = ['Here are some topics that might get your attention:\\n\\n',\n",
    "           'Maybe you will be interested in these topics:\\n\\n',\n",
    "           'Check out some of these:\\n\\n',\n",
    "          'I have a small set of tags for you:\\n\\n']\n",
    "\n",
    "no_match = [\"Sorry, no matching videos. :(\",\n",
    "            \"Ooops, I couldn't find anything. :scream:\",\n",
    "            'Bad luck. Nothing found. Try something else. ',\n",
    "            'Seems, TED has no video on this topic.']\n",
    "\n",
    "found_something = [\"Here's what I found!\\n\\n\",\n",
    "                   \"Check this out!\\n\\n\",\n",
    "                   \"Wow, this one is definitely worth watching!\\n\\n\",\n",
    "                   \"How do you find this one?\\n\\n\"]\n",
    "\n",
    "start = \"Hi! I can send you an inspirational video from ted.com. Just type any topic. If you can't choose a topic, please type /random. For more instructions type /help.\"\n",
    "\n",
    "help = \"You can input any key words separated by comma (e.g. 'linguistics, math'), and I'll send you a matching video. You can type questions in English as you usually do, e.g. 'Please, send me a video about space and aliens'. I'll do my best to show you relevant TED-talks. \\nOr you can use our advanced search, just type your command before the query.\\nHere is the list of possible commands:\\n/taglist         Get 20 random topics from our tag list\\n/random       Get random video.\\n/tags            Search video by tags.\\n/description   Search video by words from description.\\n/author         Search video by author. \\n\\nHere are some examples:\\n/tags linguistics, math\\n/author Elon Musk\\n/description learning, experimentation, science\""
   ]
  },
  {
   "cell_type": "markdown",
   "metadata": {},
   "source": [
    "А в сам код с ботом можно импортировать этот файл и использовать вместе с модулем `random`:"
   ]
  },
  {
   "cell_type": "code",
   "execution_count": null,
   "metadata": {
    "collapsed": true
   },
   "outputs": [],
   "source": [
    "import phrases\n",
    "\n",
    "@bot.message_handler(commands=['start'])\n",
    "def start_command(message):  # reacts to /start command\n",
    "    bot.send_message(message.chat.id, phrases.start)\n",
    "\n",
    "\n",
    "@bot.message_handler(commands=['help'])\n",
    "def help_command(message):  # reacts to /help command\n",
    "    bot.send_message(message.chat.id, phrases.help)\n",
    "\n",
    "def send_video(chat_id, video):\n",
    "    \"\"\"\n",
    "    Send info about ted talk and URL to user or say that nothing was found.\n",
    "    Args:\n",
    "        chat_id:  id of a telegram chat\n",
    "        video:  Video instance\n",
    "    \"\"\"\n",
    "    if not video:\n",
    "        bot.send_message(chat_id, random.choice(phrases.no_match))\n",
    "    else:\n",
    "        collect_message = random.choice(phrases.found_something)\n",
    "        collect_message += video.headline + '\\r\\nBy ' + video.speaker_name + ' \\r\\n\\r\\n'\n",
    "        collect_message += 'Tags in video: ' + ', '.join(video.tags) + ' \\r\\n\\r\\n'\n",
    "        collect_message += 'Description: ' + video.description + '\\r\\n\\r\\n'\n",
    "        bot.send_message(chat_id, collect_message + video.URL)\n"
   ]
  },
  {
   "cell_type": "markdown",
   "metadata": {},
   "source": [
    "Можем дописать нашего бота, чтобы он реагировал на русские сообщения, говорил, что не понимает и посылал смешные стикеры. Чтобы послать стикер, нужно знать ID этого стикера. ID можно узнать у другого бота - https://telegram.me/GetStickerIdBot.  (Посылаем боту стикер, а он в ответ шлет нам ID этого стикера, который можно использовать в функции `bot.send_sticker(chat_id, sticker_id`.)\n",
    "\n",
    "Создадим массив со всеми ID стикеров, которые мы хотим отправлять в файле `stickers.py`:"
   ]
  },
  {
   "cell_type": "code",
   "execution_count": null,
   "metadata": {
    "collapsed": true
   },
   "outputs": [],
   "source": [
    "\"\"\"\n",
    "Store all stickers that a bot can send to user.\n",
    "\"\"\"\n",
    "\n",
    "fish = ['BQADAgADBAADijc4AAFx0NNqDnJm4QI', 'BQADAgADBgADijc4AAH50MoMENn2lQI', 'BQADAgADCAADijc4AAGB93daGX3cWgI',\n",
    "        'BQADAgADLQADijc4AAGBowxjAqAlGwI',\n",
    "        'BQADAgADDgADijc4AAGOGq6J30OGfwI', 'BQADAgADEAADijc4AAESVXqKiwYE2wI', 'BQADAgADEgADijc4AAF00GirhpifXQI',\n",
    "        'BQADAgADFAADijc4AAGtl5dISqHmiAI',\n",
    "        'BQADAgADFgADijc4AAErJ-ihzzsO7wI', 'BQADAgADJwADijc4AAE3oUMhargOuAI', 'BQADAgADGQADijc4AAHtT7j-b6m-2QI',\n",
    "        'BQADAgADGwADijc4AAEdwByBSe9kgQI',\n",
    "        'BQADAgADHQADijc4AAEw0RBgpCTPAAEC', 'BQADAgADHwADijc4AAFXWsuIC4i6fAI', 'BQADAgADMwADijc4AAGU2NZK2N9ilwI']"
   ]
  },
  {
   "cell_type": "markdown",
   "metadata": {},
   "source": [
    "И добавим регулярное выражение для поиска кириллических символов:"
   ]
  },
  {
   "cell_type": "code",
   "execution_count": null,
   "metadata": {
    "collapsed": true
   },
   "outputs": [],
   "source": [
    "import stickers\n",
    "import re\n",
    "regRus = re.compile('[а-яёА-ЯЁ]+')\n",
    "\n",
    "\n",
    "@bot.message_handler(content_types=[\"text\"])\n",
    "def get_video_by_text(message):  # reacts to any text message\n",
    "    # if the message is in Russian, the bot says it knows no Russian and sends a sticker\n",
    "    if regRus.search(message.text) is not None:\n",
    "        bot.send_message(message.chat.id, random.choice(phrases.russian))  # random phrase about Russian\n",
    "        bot.send_sticker(message.chat.id, random.choice(stickers.fish))  # random sticker with fish\n",
    "    else:\n",
    "        # get key phrases from cognitive services and search database\n",
    "        kw = get_key_words(message.text)\n",
    "        to_search = message.text\n",
    "        if kw:\n",
    "            to_search = ','.join(kw)\n",
    "        video = tag_search(to_search)\n",
    "        if video is None:\n",
    "            video = description_search(to_search)\n",
    "        send_video(message.chat.id, video)"
   ]
  },
  {
   "cell_type": "markdown",
   "metadata": {},
   "source": [
    "Научим бота возвращать случайное видео:"
   ]
  },
  {
   "cell_type": "code",
   "execution_count": null,
   "metadata": {
    "collapsed": true
   },
   "outputs": [],
   "source": [
    "@bot.message_handler(commands=['random'])\n",
    "def random_video_command(message):  # reacts to /random command - sends a random ted talk\n",
    "    send_video(message.chat.id, random.choice(DATABASE))"
   ]
  },
  {
   "cell_type": "markdown",
   "metadata": {},
   "source": [
    "И находить видео по автору:"
   ]
  },
  {
   "cell_type": "code",
   "execution_count": null,
   "metadata": {
    "collapsed": true
   },
   "outputs": [],
   "source": [
    "def author_search(q):\n",
    "    \"\"\"\n",
    "    Find a ted-talk that has query words among in the name of the speaker..\n",
    "    Args:\n",
    "        q: string with user query\n",
    "    Returns:\n",
    "        Video instance or None\n",
    "    \"\"\"\n",
    "    arr = []\n",
    "    for video in DATABASE:\n",
    "        if q.lower().strip() in video.speaker_name.lower():\n",
    "            arr.append(video)\n",
    "    if len(arr) != 0:\n",
    "        return random.choice(arr)\n",
    "    \n",
    "    \n",
    "@bot.message_handler(commands=['author'])\n",
    "def author_command(message):  # reacts to /author command - search a ted talk of a given author\n",
    "    message_text = message.text.replace('/author', '').strip()\n",
    "    if not message_text:\n",
    "        bot.send_message(message.chat.id, 'Please, provide the author\\'s name after the command /author, e.g.:\\n/author Elon Musk')\n",
    "        return\n",
    "    video = author_search(message_text)\n",
    "    send_video(message.chat.id, video)"
   ]
  },
  {
   "cell_type": "markdown",
   "metadata": {},
   "source": [
    "#### Весь код находится в репозитории [tedbot](https://github.com/religofsil/tedbot). Можно посмотреть туда и позадавать вопросы.\n",
    "\n",
    "## Take-away message\n",
    "Как и всегда в программировании, когда мы пишем бота, мы делим большую задачу на много маленьких и решаем их одна за другой. Не забываем задавать себе вопросы:\n",
    "\n",
    "1) Боту нужны какие-то данные? \n",
    "  * Находим эти данные, парсим их и приводим в нужный вид.\n",
    "  * Пишем функции для работы с этими данными.\n",
    "  \n",
    "2) Бот общается с каким-то API?\n",
    "  * Читаем документацию к API.\n",
    "  * Пишем функции для отправки запросов и получения ответов.\n",
    "  \n",
    "3) Бот реагирует на какие-то команды?\n",
    "  * Для каждой команды пишем свою функцию.\n",
    "  \n",
    "4) Заметили, что несколько раз копируете и вставляете в разные функции один и тот же кусочек кода?\n",
    "  * Стоит выделить его в отдельную функцию.\n",
    "  \n",
    "Кроме того, когда вы только разрабатываете бота, удобно использовать long polling, а когда вы уже выкладываете его на сервер для всеобщего использования, нужно включать вебхуки."
   ]
  }
 ],
 "metadata": {
  "kernelspec": {
   "display_name": "Python 3",
   "language": "python",
   "name": "python3"
  },
  "language_info": {
   "codemirror_mode": {
    "name": "ipython",
    "version": 3
   },
   "file_extension": ".py",
   "mimetype": "text/x-python",
   "name": "python",
   "nbconvert_exporter": "python",
   "pygments_lexer": "ipython3",
   "version": "3.5.3"
  }
 },
 "nbformat": 4,
 "nbformat_minor": 1
}
