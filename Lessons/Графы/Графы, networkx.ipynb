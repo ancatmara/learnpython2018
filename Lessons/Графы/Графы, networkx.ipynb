{
 "cells": [
  {
   "cell_type": "markdown",
   "metadata": {},
   "source": [
    "# Графы (сети), библиотека networkx\n",
    "\n",
    "## Что такое графы?\n",
    "\n",
    "Чтобы что-то научно исследовать, мы строим модель, то есть упрощённую схему, исследуемого предмета. Карта -- модель пространства и того, что в нём находится, грамматическое описание -- модель реальной грамматической системы языка, а глоссированный текст -- модель текста настоящего, произнесённого. В модель мы берём какие-то важные для нас данные, а другие отбрасываем, считая их неважными. Например, физики часто пренебрегают таким свойством предмета, как его размер, принимая во внимание только массу, скорость и ряд других характеристик, а сам объект считая \"материальной точкой\", то есть своего рода абстракцией (в реальности не может существовать предмет без пространственных характеристик). \n",
    "\n",
    "Частотный словарь -- тоже модель, это модель реального текста, в которой мы важными параметрами, которые мы взяли в нашу модель, считаем сами слова и частоту их употребления. Но при этом мы отказываемся от ряда других характеристик, которые, на самом деле, даже важнее, чем частотность, -- это связи между словами.\n",
    "\n",
    "Кажется, что это касается не только текста, но и многих других объектов реальности: связи между элементами системы важнее количества этих элементов. Посмотрите на любой сложный механизм. Скажем, самолёт. Что лучше даст нам представление о том, как он устроен: список всех винтиков, панелей и шарниров с указанием, сколько раз каждый из них задействован в конструкциии, или точный чертёж, из которого будет ясно, акэти винтики и панели соединяются друг сдругом и соединяются в единую систему? Очевидно, что второе.\n",
    "\n",
    "Модель, которая не только описывает элементы системы, но и фиксирует связи между ними, называется **графом** или **сетью**. В терминах графов может быть описана любая система, в которой можно выделить элементы (в графе они называются *узлами*, nodes) и связи между ними (они именуются *рёбрами*, edges).  Самый близкий нам пример: социальная сеть (не просто же так она сеть). Пользователи -- узлы. Наличие \"дружбы\" между пользователями -- ребро. "
   ]
  },
  {
   "cell_type": "markdown",
   "metadata": {},
   "source": [
    "## Зачем нужны графы?\n",
    "\n",
    "Прежде всего, графы любят за то, что их можно визуализировать, и в результате получается красивая картинка:\n",
    "\n",
    "![картинка с каким-то графом](http://cs5702.userapi.com/v5702562/5a9/FWZOC62-Ogk.jpg)\n",
    "\n",
    "Действительно, визуальный анализ уже может дать довольно много, и рассматривание такой картинки в некотором смысле уже научная работа. \n",
    "\n",
    "Но не только. Рассматриванием картинок дело не ограничивается. Граф -- это математический объект, в котором мы можем довольно много всего посчитать, и таким образом установить разные закономерности, доказать гипотезу. Это называется *сетевым анализом*. \n",
    "\n",
    "Для того, чтобы превращать данные (любые формализованные данные) в граф, можно использовать библиотеку networkx. "
   ]
  },
  {
   "cell_type": "markdown",
   "metadata": {},
   "source": [
    "## networkx: создаём граф"
   ]
  },
  {
   "cell_type": "code",
   "execution_count": 1,
   "metadata": {
    "collapsed": false
   },
   "outputs": [],
   "source": [
    "import networkx as nx"
   ]
  },
  {
   "cell_type": "markdown",
   "metadata": {},
   "source": [
    "Мы можем пойти двумя путями, в зависимости от того, положения, в котором находимся. Первая ситуация: у нас есть какие-то данные, и нам нужно превратить их в граф. Тогда уместно создать сначала пустой объект графа и туда постепенно что-то добавлять."
   ]
  },
  {
   "cell_type": "code",
   "execution_count": 2,
   "metadata": {
    "collapsed": true
   },
   "outputs": [],
   "source": [
    "G = nx.Graph() # пустой граф\n",
    "G.add_node(1) # добавляем один узел\n",
    "G.add_nodes_from([2 ,3, 4, 5, 6, 7]) # добавляем два узла сразу\n",
    "\n",
    "G.remove_node(2) # впрочем, один узел лишний, его, пожалуй, удалим\n",
    "\n",
    "# То, как мы обозначаем узлы (1, 2, 3 ...) -- это их id. Но вообще-то мы можем приклеить к ним и человекопонятные ярлыки:\n",
    "G.add_node(1, label=\"node_1\")"
   ]
  },
  {
   "cell_type": "markdown",
   "metadata": {},
   "source": [
    "Теперь укажем, какие узлы связаны между собой рёбрами."
   ]
  },
  {
   "cell_type": "code",
   "execution_count": 3,
   "metadata": {
    "collapsed": true
   },
   "outputs": [],
   "source": [
    "G.add_edge(1,3) # ребро между узлами 1 и 3\n",
    "G.add_edges_from([(1, 4), (1, 5), (3, 5), (4, 5), (1, 6), (1, 7)]) # сразу несколько рёбер\n",
    "\n",
    "G.remove_edge(1, 5) # хотя одно ребро лишнее..."
   ]
  },
  {
   "cell_type": "markdown",
   "metadata": {},
   "source": [
    "Посмотрим, что получилось"
   ]
  },
  {
   "cell_type": "code",
   "execution_count": 4,
   "metadata": {
    "collapsed": false
   },
   "outputs": [
    {
     "name": "stdout",
     "output_type": "stream",
     "text": [
      "узлы [1, 3, 4, 5, 6, 7]\n",
      "рёбра [(1, 3), (1, 4), (1, 6), (1, 7), (3, 5), (4, 5)]\n"
     ]
    }
   ],
   "source": [
    "print('узлы', G.nodes())\n",
    "print('рёбра', G.edges())"
   ]
  },
  {
   "cell_type": "code",
   "execution_count": 5,
   "metadata": {
    "collapsed": false
   },
   "outputs": [
    {
     "data": {
      "text/plain": [
       "<dict_keyiterator at 0x1f1f739d098>"
      ]
     },
     "execution_count": 5,
     "metadata": {},
     "output_type": "execute_result"
    }
   ],
   "source": [
    "# Какие есть соседи у узла 1?\n",
    "G.neighbors(1)"
   ]
  },
  {
   "cell_type": "code",
   "execution_count": 6,
   "metadata": {
    "collapsed": false
   },
   "outputs": [
    {
     "data": {
      "text/plain": [
       "2"
      ]
     },
     "execution_count": 6,
     "metadata": {},
     "output_type": "execute_result"
    }
   ],
   "source": [
    "# А сколько есть соседей у узла 5?\n",
    "G.degree(5)"
   ]
  },
  {
   "cell_type": "code",
   "execution_count": 7,
   "metadata": {
    "collapsed": false
   },
   "outputs": [
    {
     "name": "stdout",
     "output_type": "stream",
     "text": [
      "1 4\n",
      "3 2\n",
      "4 2\n",
      "5 2\n",
      "6 1\n",
      "7 1\n"
     ]
    }
   ],
   "source": [
    "# А теперь узнаем число соседей (в терминах теории графов -- степень узла) каждого узла\n",
    "for node in G.nodes():\n",
    "    print (node, G.degree(node))"
   ]
  },
  {
   "cell_type": "markdown",
   "metadata": {},
   "source": [
    "Кроме того, что графы просто отражают связи между узлами, они могут включать и характер этой связи. Например, в теории графов выделяются специальные взвешенные графы, это такие, у которых между узлами не просто наличествует ребро, но у этого ребра ещё и есть вес. В реальности взвешенным графом, например, может быть граф персонажей какой-то пьесы, в котором мы учитываем не только то, что персонажи этой пьесы находятся вместе на сцене (ребро), но и сколько раз они вступают в диалог (вес ребра)."
   ]
  },
  {
   "cell_type": "code",
   "execution_count": 8,
   "metadata": {
    "collapsed": true
   },
   "outputs": [],
   "source": [
    "# вес ребра можно добавить так:\n",
    "\n",
    "G.add_edge(1, 3, weight=4)"
   ]
  },
  {
   "cell_type": "markdown",
   "metadata": {},
   "source": [
    "Отдельно выделяюся специальные направленные графы, где мы фиксируем не просто наличие и вес связи, но и её направление. Скажем, граф переписки нескольких отражает направление связи-письма, то есть, что именно X писал Y-ку, а не наоборот. Такой граф задаётся как специальный тип объекта:"
   ]
  },
  {
   "cell_type": "code",
   "execution_count": 9,
   "metadata": {
    "collapsed": true
   },
   "outputs": [],
   "source": [
    "dg = nx.DiGraph()\n",
    "dg.add_weighted_edges_from([(1,4,0.5), (3,1,0.75)]) # от кого -- кому и вес ребра"
   ]
  },
  {
   "cell_type": "markdown",
   "metadata": {},
   "source": [
    "## Сохраняем и подгружаем граф\n",
    "\n",
    "Когда граф построен, его можно сохранить в каком-нибудь специальном графовом формате. networkx умеет работать с разными. Например, можно использовать XML-подобный формат для хранения графов .gexf (Graph Exchange XML Format). Чтобы сохранить граф в виде файла в этом формате, достаточно вот такого кода:"
   ]
  },
  {
   "cell_type": "code",
   "execution_count": 10,
   "metadata": {
    "collapsed": true
   },
   "outputs": [],
   "source": [
    "nx.write_gexf(G, 'graph_file.gexf')"
   ]
  },
  {
   "cell_type": "markdown",
   "metadata": {},
   "source": [
    "Загрузить данные из этого формата можно тоже одной строчкой:"
   ]
  },
  {
   "cell_type": "code",
   "execution_count": 11,
   "metadata": {
    "collapsed": true
   },
   "outputs": [],
   "source": [
    "G1 = nx.read_gexf('graph_file.gexf')"
   ]
  },
  {
   "cell_type": "markdown",
   "metadata": {},
   "source": [
    "## Визуализация\n",
    "\n",
    "Визуализируем граф с помощью уже знакомого нам `matplotlib`:\n"
   ]
  },
  {
   "cell_type": "code",
   "execution_count": 12,
   "metadata": {
    "collapsed": false
   },
   "outputs": [
    {
     "data": {
      "image/png": "[encoded data removed]",
      "text/plain": [
       "<Figure size 432x288 with 1 Axes>"
      ]
     },
     "metadata": {},
     "output_type": "display_data"
    }
   ],
   "source": [
    "import matplotlib.pyplot as plt \n",
    "\n",
    "# для начала надо выбрать способ \"укладки\" графа. Их много, возьмём для начала такой:\n",
    "pos=nx.spring_layout(G)\n",
    "\n",
    "nx.draw_networkx_nodes(G, pos, node_color='red', node_size=50) # рисуем узлы красным цветом, задаём размер узла\n",
    "nx.draw_networkx_edges(G, pos, edge_color='yellow') # рисуем рёбра жёлтым\n",
    "plt.axis('off') # по умолчанию график будет снабжён осями с координатами, здесь они бессмысленны, так что отключаем\n",
    "plt.show() # что получилось?"
   ]
  },
  {
   "cell_type": "code",
   "execution_count": 13,
   "metadata": {
    "collapsed": false
   },
   "outputs": [
    {
     "data": {
      "image/png": "[encoded data removed]",
      "text/plain": [
       "<Figure size 432x288 with 1 Axes>"
      ]
     },
     "metadata": {},
     "output_type": "display_data"
    }
   ],
   "source": [
    "# То же, но добавим ещё подписи к узлам\n",
    "nx.draw_networkx_nodes(G, pos, node_color='red', node_size=10) \n",
    "nx.draw_networkx_edges(G, pos, edge_color='yellow')\n",
    "nx.draw_networkx_labels(G, pos, font_size=20, font_family='Arial')\n",
    "plt.axis('off') \n",
    "plt.show()"
   ]
  },
  {
   "cell_type": "markdown",
   "metadata": {},
   "source": [
    "## Сетевой анализ\n",
    "\n",
    "Что мы можем узнать про свой граф?"
   ]
  },
  {
   "cell_type": "code",
   "execution_count": 14,
   "metadata": {
    "collapsed": false
   },
   "outputs": [
    {
     "name": "stdout",
     "output_type": "stream",
     "text": [
      "2\n",
      "3\n",
      "6\n",
      "6\n",
      "0.4\n",
      "-0.733333333333\n"
     ]
    }
   ],
   "source": [
    "# Радиус графа, минимальный эксцентриситет среди всех вершин графа\n",
    "print(nx.radius(G))\n",
    "\n",
    "# Диаметр графа, самый длинный путь от одной вершины до другой\n",
    "print(nx.diameter(G))\n",
    "\n",
    "# число узлов и рёбер\n",
    "\n",
    "print(G.number_of_nodes())\n",
    "print(G.number_of_edges())\n",
    "\n",
    "# Плотность графа, отношение рёбер и узлов\n",
    "\n",
    "print(nx.density(G))\n",
    "\n",
    "# Коэффициент ассортативности (насколько вся сеть завязана на основных \"хабах\"):\n",
    "\n",
    "print(nx.degree_pearson_correlation_coefficient(G))"
   ]
  },
  {
   "cell_type": "markdown",
   "metadata": {},
   "source": [
    "Подробнее про ассортативность [тут](https://ru.wikipedia.org/wiki/%D0%9A%D0%BE%D0%BC%D0%BF%D0%BB%D0%B5%D0%BA%D1%81%D0%BD%D1%8B%D0%B5_%D1%81%D0%B5%D1%82%D0%B8#.D0.9A.D0.BE.D1.8D.D1.84.D1.84.D0.B8.D1.86.D0.B8.D0.B5.D0.BD.D1.82_.D0.B0.D1.81.D1.81.D0.BE.D1.80.D1.82.D0.B0.D1.82.D0.B8.D0.B2.D0.BD.D0.BE.D1.81.D1.82.D0.B8_.28Assortativity_Coefficient.29)"
   ]
  },
  {
   "cell_type": "code",
   "execution_count": 15,
   "metadata": {
    "collapsed": false
   },
   "outputs": [
    {
     "name": "stdout",
     "output_type": "stream",
     "text": [
      "1\n",
      "3\n",
      "4\n",
      "5\n",
      "6\n",
      "7\n"
     ]
    }
   ],
   "source": [
    "# Центральность узлов (важность узлов)\n",
    "\n",
    "deg = nx.degree_centrality(G)\n",
    "for nodeid in sorted(deg, key=deg.get, reverse=True):\n",
    "    print(nodeid)"
   ]
  },
  {
   "cell_type": "markdown",
   "metadata": {},
   "source": [
    "Кластерный коэффициент. Важное свойство графа, показывает, насколько все узлы связаны между собой. \n",
    "Так кластерный коэффициент нулевой:\n",
    "![clustering coefficient 0](http://evelinag.com/blog/2016/01-25-social-network-force-awakens/clustering0.png)\n",
    "А так он равен 1:\n",
    "![clustering coefficient 1](http://evelinag.com/blog/2016/01-25-social-network-force-awakens/clustering1.png)\n"
   ]
  },
  {
   "cell_type": "code",
   "execution_count": 16,
   "metadata": {
    "collapsed": false
   },
   "outputs": [
    {
     "name": "stdout",
     "output_type": "stream",
     "text": [
      "0.0\n",
      "0\n"
     ]
    }
   ],
   "source": [
    "# вот какой коэффициент у нашего графа:\n",
    "\n",
    "print(nx.average_clustering(G))\n",
    "print(nx.transitivity(G))"
   ]
  },
  {
   "cell_type": "markdown",
   "metadata": {},
   "source": [
    "### Gephi\n",
    "\n",
    "[Вот здесь](https://ancatmara.gitbooks.io/digital-literacy-for-sfl/content/seminar-11.html) чуть больше теории про разнные метрики оценки графов и тьюториал по обработке и визуализации графов в программе Gephi. Она умеет делать вещи намного красивее, чем `matplotlib`, так что можно создать граф с помощью питона, а потом загрузить его в Gephi и считать статистику по графу и визуализировать его уже там."
   ]
  },
  {
   "cell_type": "markdown",
   "metadata": {},
   "source": [
    "## Данные для графов\n",
    "\n",
    "[Тут можно найти](http://konect.uni-koblenz.de/) большую разнообразную коллекцию готовых сетей, с которыми можно поиграть. Например, [здесь лежат](http://konect.uni-koblenz.de/networks/dolphins) результаты наблюдений за дельфинами в  Новой Зеландии (классический граф) — 64 узла (дельфины), 159 связей (если дельфинов часто наблюдали вместе).\n",
    "\n",
    "Загрузим эти данные и посмотрим, что можно с ними сделать."
   ]
  },
  {
   "cell_type": "code",
   "execution_count": 17,
   "metadata": {
    "collapsed": true
   },
   "outputs": [],
   "source": [
    "import urllib.request\n",
    "import tarfile\n",
    "\n",
    "response = urllib.request.urlopen('http://konect.uni-koblenz.de/downloads/tsv/dolphins.tar.bz2')\n",
    "zipped = response.read()\n",
    "f = open('dolphins.tar.bz2', 'wb')\n",
    "f.write(zipped)\n",
    "f.close()\n",
    "\n",
    "tar = tarfile.open(\"dolphins.tar.bz2\")\n",
    "tar.extractall()\n",
    "tar.close()\n",
    "\n",
    "dolphin_G = nx.Graph()\n",
    "\n",
    "fg = open('dolphins/out.dolphins')\n",
    "for indx, line in enumerate(fg):\n",
    "    if indx:\n",
    "        line = line.strip()\n",
    "        node_1, node2 = line.split()\n",
    "        dolphin_G.add_edge(node_1, node2)\n",
    "fg.close()"
   ]
  },
  {
   "cell_type": "code",
   "execution_count": 18,
   "metadata": {
    "collapsed": false
   },
   "outputs": [
    {
     "name": "stdout",
     "output_type": "stream",
     "text": [
      "0.3087757313109426\n"
     ]
    }
   ],
   "source": [
    "# У этого графа кластерный коэффициент будет уже другим:\n",
    "\n",
    "print(nx.transitivity(dolphin_G))"
   ]
  },
  {
   "cell_type": "code",
   "execution_count": 19,
   "metadata": {
    "collapsed": false
   },
   "outputs": [
    {
     "name": "stdout",
     "output_type": "stream",
     "text": [
      "15 0.197\n",
      "38 0.18\n",
      "46 0.18\n",
      "34 0.164\n",
      "52 0.164\n",
      "18 0.148\n",
      "21 0.148\n",
      "30 0.148\n",
      "58 0.148\n",
      "14 0.131\n"
     ]
    }
   ],
   "source": [
    "# Какой дельфин самый главный в Новой Зеландии? :)\n",
    "\n",
    "deg_dolphin = nx.degree_centrality(dolphin_G)\n",
    "i = 0\n",
    "for nodeid in sorted(deg_dolphin, key=deg_dolphin.get, reverse=True):\n",
    "    i += 1\n",
    "    print(nodeid, round(deg_dolphin[nodeid], 3))\n",
    "    if i == 10:\n",
    "        break"
   ]
  },
  {
   "cell_type": "code",
   "execution_count": 20,
   "metadata": {
    "collapsed": false
   },
   "outputs": [
    {
     "data": {
      "image/png": "[encoded data removed]",
      "text/plain": [
       "<Figure size 432x288 with 1 Axes>"
      ]
     },
     "metadata": {},
     "output_type": "display_data"
    }
   ],
   "source": [
    "# Теперь нарисуем, возьмёт для разнообразия другой layout\n",
    "\n",
    "pos = nx.spectral_layout(dolphin_G)\n",
    "#pos = nx.shell_layout(dolphin_G)\n",
    "nx.draw_networkx_nodes(dolphin_G, pos, node_color='blue', node_size=1) \n",
    "nx.draw_networkx_edges(dolphin_G, pos, edge_color='green')\n",
    "nx.draw_networkx_labels(dolphin_G, pos, font_size=10, font_family='Arial')\n",
    "plt.axis('off') \n",
    "plt.show()"
   ]
  },
  {
   "cell_type": "code",
   "execution_count": 21,
   "metadata": {
    "collapsed": false
   },
   "outputs": [
    {
     "name": "stdout",
     "output_type": "stream",
     "text": [
      "3\n"
     ]
    }
   ],
   "source": [
    "# Из графа можно извлечь подграф, где будут, например, только интересующие нас узлы:\n",
    "dolphins_sub = ['15', '38', '46']\n",
    "sub_G = dolphin_G.subgraph(dolphins_sub)\n",
    "print(sub_G.number_of_nodes())"
   ]
  },
  {
   "cell_type": "markdown",
   "metadata": {},
   "source": [
    "Там можно найти и другие данные: [сотрудничество джазовых музыкантов друг с другом](http://konect.uni-koblenz.de/networks/arenas-jazz) — 198 узлов (музыканты), 2,742 связи между ними (сотрудничество)\n",
    "\n",
    "[Племена Новой Гвинеи](http://konect.uni-koblenz.de/networks/ucidata-gama)\n",
    "\n",
    "И много всего другого."
   ]
  },
  {
   "cell_type": "markdown",
   "metadata": {},
   "source": [
    "## Графы и лингвистика\n",
    "\n",
    "[Вот тут постоянно попоплняемая библиография работ о применении графов в лингвистике](https://www.cs.upc.edu/~rferrericancho/linguistic_and_cognitive_networks.html), её можно изучить и сделать что-нибудь великое. Но начнём с простого."
   ]
  },
  {
   "cell_type": "markdown",
   "metadata": {
    "collapsed": true
   },
   "source": [
    "## Задание\n",
    "\n",
    "Давайте возьмём некоторый большой текст (например, [такой](http://www.adventist.kz/download/education/gom/_plungyan_v.a._-_obstchaya_morfologiya.rar), только не забудьте пересохранить его как plain text), выделим в нём существительные, приведём их к словарной форме и построим граф, в котором все существительные будут связаны между собой в том случае, если они встречались в тексте на расстоянии 3 (или меньше) друг от друга больше 2 раз.\n",
    "\n",
    "То есть в тексте \n",
    "\n",
    "*Произвольность знака, по поводу которой мы выше допускали теоретическую возможность перемены. Углубляясь в вопрос, мы усматриваем, что в действительности самая произвольность знака защищает язык от всякой попытки, направленной к его изменению. Говорящая масса, будь она даже сознательнее, не могла бы обсуждать вопросы языка. Ведь для того чтобы подвергать обсуждению какую-либо вещь, надо, чтобы она отвечала какой-то разумной норме.* \n",
    "\n",
    "\n",
    "найдутся существительные *произвольность*, *знак*, *повод*, *возможность*, *перемена*, *вопрос*, *действительность*, *произвольность*, *знак*, *язык*, *попытка*, *изменение*, *масса*, *вопрос*, *язык*, *обсуждение*, *вещь*, *норма*.\n",
    "\n",
    "На расстоянии 3 от слова *повод* находятся слова *произвольность*, *знак*, *возможность*, *перемена*, *вопрос*.\n",
    "\n",
    "Теперь давайте узнаем самые центральные существительные в этом графе, его диаметр (можно узнать только если граф связанный), плотность, ассортативность, кластерный коэффициент. Ну и, конечно, нарисуем то, что у нас получилось.\n"
   ]
  }
 ],
 "metadata": {
  "kernelspec": {
   "display_name": "Python 3",
   "language": "python",
   "name": "python3"
  },
  "language_info": {
   "codemirror_mode": {
    "name": "ipython",
    "version": 3
   },
   "file_extension": ".py",
   "mimetype": "text/x-python",
   "name": "python",
   "nbconvert_exporter": "python",
   "pygments_lexer": "ipython3",
   "version": "3.6.0"
  }
 },
 "nbformat": 4,
 "nbformat_minor": 0
}
