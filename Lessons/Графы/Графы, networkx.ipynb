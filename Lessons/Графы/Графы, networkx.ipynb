{
 "cells": [
  {
   "cell_type": "markdown",
   "metadata": {},
   "source": [
    "# Графы (сети), библиотека networkx\n",
    "\n",
    "## Что такое графы?\n",
    "\n",
    "Чтобы что-то научно исследовать, мы строим модель, то есть упрощённую схему, исследуемого предмета. Карта — модель пространства и того, что в нём находится, грамматическое описание -- модель реальной грамматической системы языка, а глоссированный текст — модель текста настоящего, произнесённого. В модель мы берём какие-то важные для нас данные, а другие отбрасываем, считая их неважными. Например, физики часто пренебрегают таким свойством предмета, как его размер, принимая во внимание только массу, скорость и ряд других характеристик, а сам объект считая \"материальной точкой\", то есть своего рода абстракцией (в реальности не может существовать предмет без пространственных характеристик). \n",
    "\n",
    "Частотный словарь — тоже модель, это модель реального текста, в которой мы важными параметрами, которые мы взяли в нашу модель, считаем сами слова и частоту их употребления. Но при этом мы отказываемся от ряда других характеристик, которые, на самом деле, даже важнее, чем частотность, — это связи между словами.\n",
    "\n",
    "Кажется, что это касается не только текста, но и многих других объектов реальности: связи между элементами системы важнее количества этих элементов. Посмотрите на любой сложный механизм. Скажем, самолёт. Что лучше даст нам представление о том, как он устроен: список всех винтиков, панелей и шарниров с указанием, сколько раз каждый из них задействован в конструкциии, или точный чертёж, из которого будет ясно, акэти винтики и панели соединяются друг сдругом и соединяются в единую систему? Очевидно, что второе.\n",
    "\n",
    "Модель, которая не только описывает элементы системы, но и фиксирует связи между ними, называется **графом** или **сетью**. В терминах графов может быть описана любая система, в которой можно выделить\n",
    "1. элементы (в графе они называются *узлами = вершинами = nodes = vertices*)\n",
    "2. связи между ними (они именуются *рёбрами = связями = edges = relations*).  \n",
    "\n",
    "Самый близкий нам пример — социальная сеть (не просто же так она сеть), где пользователи — узлы,а наличие \"дружбы\" между пользователями — ребро. Чуть менее очевидные графы, с которыми мы сталкиваемся каждый день — метро и интернет.\n",
    "\n",
    "<img src=\"https://raw.githubusercontent.com/ancatmara/DL-SFL-2019/master/assets/graph1.png\" width=\"450\" align=\"left\">\n",
    "\n",
    "<img src=\"http://www.zetatalk.com/newsletr/slide027.jpg\" width=\"400\" align=\"right\">"
   ]
  },
  {
   "cell_type": "markdown",
   "metadata": {},
   "source": [
    "## Зачем нужны графы?\n",
    "\n",
    "Прежде всего, графы любят за то, что их можно визуализировать, и в результате получается красивая картинка:\n",
    "\n",
    "![картинка с каким-то графом](http://cs5702.userapi.com/v5702562/5a9/FWZOC62-Ogk.jpg)\n",
    "\n",
    "Действительно, визуальный анализ уже может дать довольно много, и рассматривание такой картинки в некотором смысле уже научная работа. \n",
    "\n",
    "Но не только. Рассматриванием картинок дело не ограничивается. Граф — это математический объект, в котором мы можем довольно много всего посчитать, и таким образом установить разные закономерности, доказать гипотезу. Это называется *сетевым анализом*. \n",
    "\n",
    "Для того, чтобы превращать данные (любые формализованные данные) в граф, можно использовать библиотеку `networkx`. [Вот ее документация](https://networkx.github.io/documentation/latest/index.html). Это не единственная библиотека для работы с графами в питоне ([вот полный список](https://wiki.python.org/moin/PythonGraphLibraries)), но, кажется, самая простая и удобная. "
   ]
  },
  {
   "cell_type": "markdown",
   "metadata": {},
   "source": [
    "# networkx"
   ]
  },
  {
   "cell_type": "code",
   "execution_count": null,
   "metadata": {},
   "outputs": [],
   "source": [
    "!pip install networkx"
   ]
  },
  {
   "cell_type": "code",
   "execution_count": 1,
   "metadata": {},
   "outputs": [],
   "source": [
    "import networkx as nx"
   ]
  },
  {
   "cell_type": "markdown",
   "metadata": {},
   "source": [
    "## Создаем граф\n",
    "\n",
    "Мы можем пойти двумя путями, в зависимости от того, положения, в котором находимся. Первая ситуация: у нас есть какие-то данные, и нам нужно превратить их в граф. Тогда уместно создать сначала пустой объект графа и туда постепенно что-то добавлять."
   ]
  },
  {
   "cell_type": "code",
   "execution_count": 2,
   "metadata": {},
   "outputs": [],
   "source": [
    "G = nx.Graph() # пустой граф\n",
    "G.add_node(1) # добавляем один узел\n",
    "G.add_nodes_from([2 ,3, 4, 5, 6, 7]) # добавляем несколько узлов сразу\n",
    "\n",
    "G.remove_node(2) # впрочем, один узел лишний, его, пожалуй, удалим\n",
    "\n",
    "# То, как мы обозначаем узлы (1, 2, 3 ...) — это их id. Но вообще-то мы можем приклеить к ним и человекопонятные ярлыки:\n",
    "G.add_node(1, label=\"node_1\")"
   ]
  },
  {
   "cell_type": "markdown",
   "metadata": {},
   "source": [
    "Теперь укажем, какие узлы связаны между собой рёбрами."
   ]
  },
  {
   "cell_type": "code",
   "execution_count": 3,
   "metadata": {},
   "outputs": [],
   "source": [
    "G.add_edge(1,3) # ребро между узлами 1 и 3\n",
    "G.add_edges_from([(1, 4), (1, 5), (3, 5), (4, 5), (1, 6), (1, 7)]) # сразу несколько рёбер\n",
    "\n",
    "G.remove_edge(1, 5) # хотя одно ребро лишнее..."
   ]
  },
  {
   "cell_type": "markdown",
   "metadata": {},
   "source": [
    "Посмотрим, что получилось."
   ]
  },
  {
   "cell_type": "code",
   "execution_count": 4,
   "metadata": {},
   "outputs": [
    {
     "name": "stdout",
     "output_type": "stream",
     "text": [
      "узлы [1, 3, 4, 5, 6, 7]\n",
      "рёбра [(1, 3), (1, 4), (1, 6), (1, 7), (3, 5), (4, 5)]\n"
     ]
    }
   ],
   "source": [
    "print('узлы', G.nodes())\n",
    "print('рёбра', G.edges())"
   ]
  },
  {
   "cell_type": "code",
   "execution_count": 7,
   "metadata": {},
   "outputs": [
    {
     "name": "stdout",
     "output_type": "stream",
     "text": [
      "[3, 4, 6, 7]\n"
     ]
    },
    {
     "data": {
      "text/plain": [
       "<dict_keyiterator at 0x1a4815a2db8>"
      ]
     },
     "execution_count": 7,
     "metadata": {},
     "output_type": "execute_result"
    }
   ],
   "source": [
    "# Какие есть соседи у узла 1?\n",
    "\n",
    "print([n for n in G.neighbors(1)])\n",
    "G.neighbors(1) # это итератор"
   ]
  },
  {
   "cell_type": "code",
   "execution_count": 8,
   "metadata": {},
   "outputs": [
    {
     "data": {
      "text/plain": [
       "2"
      ]
     },
     "execution_count": 8,
     "metadata": {},
     "output_type": "execute_result"
    }
   ],
   "source": [
    "# А сколько есть соседей у узла 5?\n",
    "G.degree(5)"
   ]
  },
  {
   "cell_type": "code",
   "execution_count": 9,
   "metadata": {},
   "outputs": [
    {
     "name": "stdout",
     "output_type": "stream",
     "text": [
      "1 4\n",
      "3 2\n",
      "4 2\n",
      "5 2\n",
      "6 1\n",
      "7 1\n"
     ]
    }
   ],
   "source": [
    "# А теперь узнаем число соседей (в терминах теории графов — степень, она же мощность) каждого узла\n",
    "for node in G.nodes():\n",
    "    print (node, G.degree(node))"
   ]
  },
  {
   "cell_type": "markdown",
   "metadata": {},
   "source": [
    "Кроме того, что графы просто отражают связи между узлами, они могут включать и характер этой связи. Например, в теории графов выделяются специальные взвешенные графы, это такие, у которых между узлами не просто наличествует ребро, но у этого ребра ещё и есть вес. В реальности взвешенным графом, например, может быть граф персонажей какой-то пьесы, в котором мы учитываем не только то, что персонажи этой пьесы находятся вместе на сцене (ребро), но и сколько раз они вступают в диалог (вес ребра)."
   ]
  },
  {
   "cell_type": "code",
   "execution_count": 10,
   "metadata": {},
   "outputs": [],
   "source": [
    "# вес ребра можно добавить так:\n",
    "G.add_edge(1, 3, weight=4)"
   ]
  },
  {
   "cell_type": "markdown",
   "metadata": {},
   "source": [
    "Отдельно выделяюся специальные направленные графы, где мы фиксируем не просто наличие и вес связи, но и её направление. Скажем, граф переписки нескольких отражает направление связи-письма, то есть, что именно X писал Y-ку, а не наоборот. Такой граф задаётся как специальный тип объекта:"
   ]
  },
  {
   "cell_type": "code",
   "execution_count": 11,
   "metadata": {},
   "outputs": [],
   "source": [
    "dg = nx.DiGraph()\n",
    "dg.add_weighted_edges_from([(1,4,0.5), (3,1,0.75)]) # от кого — кому и вес ребра"
   ]
  },
  {
   "cell_type": "markdown",
   "metadata": {},
   "source": [
    "Итак, суммируем. Графы бывают:\n",
    "\n",
    "* ориентированные и неориентированные (связи-стрелочки vs обычные связи)\n",
    "* связные и несвязные (все узлы связаны vs есть узлы, которые оторваны от основного графа).\n",
    "* взвешенные и невзвешенные (связи имеют некоторое числовое значение или нет)\n"
   ]
  },
  {
   "cell_type": "markdown",
   "metadata": {},
   "source": [
    "## Сохраняем и подгружаем граф\n",
    "\n",
    "Когда граф построен, его можно сохранить в каком-нибудь специальном формате. \n",
    "\n",
    "1. **csv**-таблица узлов/ребер\n",
    "2. **gml** (*Graph Modelling Language*) — простейший текстовый формат записи графа\n",
    "3. **graphml** — основанный на XML формат для записи графов\n",
    "4. **gexf** (*Graph Exchange XML Format*) — таже основан на XML, позволяет описывать не только структуру и элементы графа, но и метаданные, иерархию, динамику — в общем, самый продвинутый формат.\n",
    "\n",
    "Чтобы сохранить граф в виде файла в формате .gexf, достаточно вот такого кода:"
   ]
  },
  {
   "cell_type": "code",
   "execution_count": 10,
   "metadata": {
    "collapsed": true
   },
   "outputs": [],
   "source": [
    "nx.write_gexf(G, 'graph_file.gexf')"
   ]
  },
  {
   "cell_type": "markdown",
   "metadata": {},
   "source": [
    "Загрузить данные из этого формата можно тоже одной строчкой:"
   ]
  },
  {
   "cell_type": "code",
   "execution_count": 11,
   "metadata": {
    "collapsed": true
   },
   "outputs": [],
   "source": [
    "G1 = nx.read_gexf('graph_file.gexf')"
   ]
  },
  {
   "cell_type": "markdown",
   "metadata": {},
   "source": [
    "## Визуализация\n",
    "\n",
    "Визуализируем граф с помощью уже знакомого нам `matplotlib` (но есть и [другие способы](https://networkx.github.io/documentation/networkx-2.2/reference/drawing.html) визуализации графов в питоне).\n"
   ]
  },
  {
   "cell_type": "code",
   "execution_count": 2,
   "metadata": {
    "scrolled": true
   },
   "outputs": [],
   "source": [
    "import matplotlib.pyplot as plt\n",
    "from matplotlib import style\n",
    "style.use('ggplot') \n",
    "\n",
    "# для начала надо выбрать способ \"укладки\" графа. Их много, возьмём для начала такой:\n",
    "pos=nx.spring_layout(G)\n",
    "\n",
    "nx.draw_networkx_nodes(G, pos, node_color='red', node_size=50) # рисуем узлы красным цветом, задаём размер узла\n",
    "nx.draw_networkx_edges(G, pos, edge_color='yellow') # рисуем рёбра жёлтым\n",
    "plt.axis('off') # по умолчанию график будет снабжён осями с координатами, здесь они бессмысленны, так что отключаем\n",
    "plt.show() # что получилось?"
   ]
  },
  {
   "cell_type": "code",
   "execution_count": 14,
   "metadata": {},
   "outputs": [
    {
     "data": {
      "image/png": "[encoded data removed]",
      "text/plain": [
       "<Figure size 432x288 with 1 Axes>"
      ]
     },
     "metadata": {},
     "output_type": "display_data"
    }
   ],
   "source": [
    "# То же, но добавим ещё подписи к узлам\n",
    "nx.draw_networkx_nodes(G, pos, node_color='red', node_size=10) \n",
    "nx.draw_networkx_edges(G, pos, edge_color='yellow')\n",
    "nx.draw_networkx_labels(G, pos, font_size=20, font_family='Arial')\n",
    "plt.axis('off') \n",
    "plt.show()"
   ]
  },
  {
   "cell_type": "markdown",
   "metadata": {},
   "source": [
    "## Сетевой анализ\n",
    "\n",
    "Что мы можем узнать про свой граф?"
   ]
  },
  {
   "cell_type": "code",
   "execution_count": 17,
   "metadata": {},
   "outputs": [
    {
     "name": "stdout",
     "output_type": "stream",
     "text": [
      "6\n",
      "6\n"
     ]
    }
   ],
   "source": [
    "# число узлов и рёбер\n",
    "\n",
    "print(G.number_of_nodes())\n",
    "print(G.number_of_edges())"
   ]
  },
  {
   "cell_type": "markdown",
   "metadata": {},
   "source": [
    "**Радиус** — минимальный эксцентриситет среди всех вершин графа.\n",
    "\n",
    "**Диаметр** — самый длинный путь от одной вершины до другой.\n",
    "\n",
    "**Коэффициент ассортативности** _\\(assortativity coefficient\\)_ определяет, с кем связаны \"важные\" узлы: если с другими \"важными\" узлами, то значение коэффициента высокое, а если нет – низкое.\n",
    "\n",
    "**Плотность графа** _\\(density\\)_ – отношение числа ребер к максимально возможному. В сообществах высокий коэффициент кластеризации и высокая плотность."
   ]
  },
  {
   "cell_type": "code",
   "execution_count": 18,
   "metadata": {},
   "outputs": [
    {
     "name": "stdout",
     "output_type": "stream",
     "text": [
      "2\n",
      "3\n",
      "-0.7333333333333333\n",
      "0.4\n"
     ]
    }
   ],
   "source": [
    "# Радиус графа, минимальный эксцентриситет среди всех вершин графа\n",
    "print(nx.radius(G))\n",
    "\n",
    "# Диаметр графа, самый длинный путь от одной вершины до другой\n",
    "print(nx.diameter(G))\n",
    "\n",
    "# Коэффициент ассортативности (насколько вся сеть завязана на основных \"хабах\"):\n",
    "print(nx.degree_pearson_correlation_coefficient(G))\n",
    "\n",
    "# Плотность графа, отношение рёбер и узлов\n",
    "print(nx.density(G))"
   ]
  },
  {
   "cell_type": "markdown",
   "metadata": {},
   "source": [
    "**Степень, или мощность узла** *(degree)* – это количество его связей.\n",
    "\n",
    "**Взвешенная степень** _\\(weighed degree\\)_ – это количество связей узла, разделенное на общее количество связей в графе.\n",
    "\n",
    "Важность узла можно определять разными способами:\n",
    "\n",
    "* **degree centrality**: у кого больше связей, тот и важнее\n",
    "* **closeness centrality**: чем центральнее узел \\(т.е. чем короче путь от него до всех остальных узлов\\), тем он важнее\n",
    "* **betweenness centrality**: количество кратчайших путей, проходящих через узел\n",
    "* **eigencentrality**: чем больше друзей у твоих друзей, тем ты важнее\n",
    "\n",
    "Все это можно посчитать с помощью `networkx`, вот [соответсветствующий раздел документации](https://networkx.github.io/documentation/networkx-2.2/reference/algorithms/centrality.html).\n",
    "\n",
    "<img src=\"https://danbi-ncsoft.github.io/assets/works/network_analysis/node_centrality.png\" align=\"left\">"
   ]
  },
  {
   "cell_type": "code",
   "execution_count": 16,
   "metadata": {},
   "outputs": [
    {
     "name": "stdout",
     "output_type": "stream",
     "text": [
      "1\n",
      "3\n",
      "4\n",
      "5\n",
      "6\n",
      "7\n"
     ]
    }
   ],
   "source": [
    "# Центральность узлов (важность узлов)\n",
    "\n",
    "deg = nx.degree_centrality(G)\n",
    "for nodeid in sorted(deg, key=deg.get, reverse=True):\n",
    "    print(nodeid)"
   ]
  },
  {
   "cell_type": "markdown",
   "metadata": {},
   "source": [
    "**Коэффициент кластеризации** _\\(clustering coefficient\\)_ – степень взаимодействия между собой ближайших соседей узла, т.е. вероятность того, что ближайшие соседи узла будут связаны не только с ним, но и между собой.\n",
    "\n",
    "Так коэффициент кластеризации нулевой:\n",
    "![clustering coefficient 0](http://evelinag.com/blog/2016/01-25-social-network-force-awakens/clustering0.png)\n",
    "А так он равен 1:\n",
    "![clustering coefficient 1](http://evelinag.com/blog/2016/01-25-social-network-force-awakens/clustering1.png)\n"
   ]
  },
  {
   "cell_type": "code",
   "execution_count": 20,
   "metadata": {},
   "outputs": [
    {
     "name": "stdout",
     "output_type": "stream",
     "text": [
      "0.0\n",
      "0\n"
     ]
    }
   ],
   "source": [
    "# вот какой коэффициент у нашего графа:\n",
    "\n",
    "print(nx.average_clustering(G))\n",
    "print(nx.transitivity(G))"
   ]
  },
  {
   "cell_type": "markdown",
   "metadata": {},
   "source": [
    "**Модулярность** _\\(modularity\\)_ показывает, насколько при заданном разбиении графа на группы плотность связей внутри группы больше плотности связей между группами. С помощью этой метрики граф разбивается на сообщества. \n",
    "\n",
    "**Сообщество** – это плотный подграф, где все (или почти все) узлы связаны между собой. \n",
    "\n",
    "![](https://focus.ua/files/medvedeva/2016/04/01-11/gofthr.jpg)"
   ]
  },
  {
   "cell_type": "code",
   "execution_count": 31,
   "metadata": {},
   "outputs": [
    {
     "name": "stdout",
     "output_type": "stream",
     "text": [
      "[frozenset({3, 4, 5}), frozenset({1, 6, 7})]\n"
     ]
    }
   ],
   "source": [
    "from networkx.algorithms import community\n",
    "\n",
    "com = community.greedy_modularity_communities(G)\n",
    "print(com)"
   ]
  },
  {
   "cell_type": "markdown",
   "metadata": {},
   "source": [
    "Что такое `frozenset`? Единственное отличие `frozenset` от `set` заключается в том, что `set` — изменяемый тип данных, а `frozenset` — нет. Примерно похожая ситуация с списками и кортежами."
   ]
  },
  {
   "cell_type": "markdown",
   "metadata": {},
   "source": [
    "А вот другой алгоритм для выделения сообществ. [Вот тут](https://networkx.github.io/documentation/latest/reference/algorithms/community.html) описаны все остальные, которые есть."
   ]
  },
  {
   "cell_type": "code",
   "execution_count": 34,
   "metadata": {},
   "outputs": [
    {
     "data": {
      "text/plain": [
       "[[1, 7], [3, 4, 5], [6]]"
      ]
     },
     "execution_count": 34,
     "metadata": {},
     "output_type": "execute_result"
    }
   ],
   "source": [
    "communities_generator = community.girvan_newman(G)\n",
    "top_level_communities = next(communities_generator)\n",
    "next_level_communities = next(communities_generator)\n",
    "sorted(map(sorted, next_level_communities))"
   ]
  },
  {
   "cell_type": "markdown",
   "metadata": {},
   "source": [
    "## Gephi\n",
    "\n",
    "[Вот здесь](https://github.com/ancatmara/DL-SFL-2019/blob/master/seminar-13.mdl) чуть больше теории про разнные метрики оценки графов и тьюториал по обработке и визуализации графов в программе Gephi. Она умеет делать вещи намного красивее, чем `matplotlib`, так что можно создать граф с помощью питона, а потом загрузить его в Gephi и считать статистику по графу и визуализировать его уже там."
   ]
  },
  {
   "cell_type": "markdown",
   "metadata": {},
   "source": [
    "## Данные для графов\n",
    "\n",
    "[Тут можно найти](http://konect.uni-koblenz.de/) большую разнообразную коллекцию готовых сетей, с которыми можно поиграть. Например, [здесь лежат](http://konect.uni-koblenz.de/networks/dolphins) результаты наблюдений за дельфинами в  Новой Зеландии (классический граф) — 64 узла (дельфины), 159 связей (если дельфинов часто наблюдали вместе).\n",
    "\n",
    "Загрузим эти данные и посмотрим, что можно с ними сделать."
   ]
  },
  {
   "cell_type": "code",
   "execution_count": 3,
   "metadata": {},
   "outputs": [],
   "source": [
    "import urllib.request\n",
    "import tarfile\n",
    "\n",
    "response = urllib.request.urlopen('http://konect.uni-koblenz.de/downloads/tsv/dolphins.tar.bz2')\n",
    "zipped = response.read()\n",
    "\n",
    "with open('dolphins.tar.bz2', 'wb') as f:\n",
    "    f.write(zipped)"
   ]
  },
  {
   "cell_type": "markdown",
   "metadata": {},
   "source": [
    "В архиве папка dolphins, а в ней 3 файла:\n",
    "\n",
    "* out.dolphins\n",
    "* meta.dolphins\n",
    "* README.dolphins\n",
    "\n",
    "Нужные нам данные лежат в первом из них. Они представляют собой набор строк, в каждой 2 числа — id дельфинов, которых наблюдали вместе."
   ]
  },
  {
   "cell_type": "code",
   "execution_count": 4,
   "metadata": {},
   "outputs": [],
   "source": [
    "# распаковываем архив\n",
    "tar = tarfile.open(\"dolphins.tar.bz2\")\n",
    "tar.extractall()\n",
    "tar.close()\n",
    "\n",
    "dolphin_G = nx.Graph()\n",
    "\n",
    "# добавляем узлы и связи в граф\n",
    "with open('dolphins/out.dolphins') as unzipped:\n",
    "    for indx, line in enumerate(unzipped):\n",
    "        if indx:\n",
    "            line = line.strip()\n",
    "            node_1, node2 = line.split()\n",
    "            dolphin_G.add_edge(node_1, node2)"
   ]
  },
  {
   "cell_type": "code",
   "execution_count": 5,
   "metadata": {},
   "outputs": [
    {
     "name": "stdout",
     "output_type": "stream",
     "text": [
      "0.3087757313109426\n"
     ]
    }
   ],
   "source": [
    "# У этого графа кластерный коэффициент будет уже другим:\n",
    "\n",
    "print(nx.transitivity(dolphin_G))"
   ]
  },
  {
   "cell_type": "code",
   "execution_count": 6,
   "metadata": {},
   "outputs": [
    {
     "name": "stdout",
     "output_type": "stream",
     "text": [
      "15 0.197\n",
      "38 0.18\n",
      "46 0.18\n",
      "34 0.164\n",
      "52 0.164\n",
      "18 0.148\n",
      "21 0.148\n",
      "30 0.148\n",
      "58 0.148\n",
      "14 0.131\n"
     ]
    }
   ],
   "source": [
    "# Какой дельфин самый главный в Новой Зеландии? :)\n",
    "\n",
    "deg_dolphin = nx.degree_centrality(dolphin_G)\n",
    "i = 0\n",
    "for nodeid in sorted(deg_dolphin, key=deg_dolphin.get, reverse=True):\n",
    "    i += 1\n",
    "    print(nodeid, round(deg_dolphin[nodeid], 3))\n",
    "    if i == 10:\n",
    "        break"
   ]
  },
  {
   "cell_type": "markdown",
   "metadata": {},
   "source": [
    "Теперь нарисуем, возьмёт для разнообразия другой layout. [Вот список](https://networkx.github.io/documentation/latest/reference/drawing.html#layout) всех алгоритмов укладки, которые есть в `networkx`."
   ]
  },
  {
   "cell_type": "code",
   "execution_count": 16,
   "metadata": {},
   "outputs": [
    {
     "data": {
      "image/png": "[encoded data removed]",
      "text/plain": [
       "<Figure size 432x288 with 1 Axes>"
      ]
     },
     "metadata": {
      "needs_background": "light"
     },
     "output_type": "display_data"
    }
   ],
   "source": [
    "# scale - во сколько раз увеличить дефолтное расстояние между узлами\n",
    "# iterations — сколько итераций проходит алгоритм укладки (чем больше, тем сильнее \"расползется\" граф)\n",
    "\n",
    "pos=nx.spring_layout(dolphin_G,scale=5, iterations=50)\n",
    "nx.draw_networkx_nodes(dolphin_G, pos, node_color='pink', node_size=100) \n",
    "nx.draw_networkx_edges(dolphin_G, pos, edge_color='green')\n",
    "nx.draw_networkx_labels(dolphin_G, pos, font_size=12, font_family='Arial')\n",
    "plt.axis('off') \n",
    "plt.show()"
   ]
  },
  {
   "cell_type": "code",
   "execution_count": 17,
   "metadata": {},
   "outputs": [
    {
     "name": "stdout",
     "output_type": "stream",
     "text": [
      "3\n"
     ]
    }
   ],
   "source": [
    "# Из графа можно извлечь подграф, где будут, например, только интересующие нас узлы:\n",
    "\n",
    "dolphins_sub = ['15', '38', '46']\n",
    "sub_G = dolphin_G.subgraph(dolphins_sub)\n",
    "print(sub_G.number_of_nodes())"
   ]
  },
  {
   "cell_type": "markdown",
   "metadata": {},
   "source": [
    "Там можно найти и другие данные: [сотрудничество джазовых музыкантов друг с другом](http://konect.uni-koblenz.de/networks/arenas-jazz) — 198 узлов (музыканты), 2,742 связи между ними (сотрудничество).  Или [племена Новой Гвинеи](http://konect.uni-koblenz.de/networks/ucidata-gama). И много всего другого. А еще можно скачать граф своих (или чьих-нибудь еще) друзей Вконтакте с помощью [вот этого приложения](https://vk.com/app3861133_4520142). В общем, пространство для экспериментов огромно!"
   ]
  },
  {
   "cell_type": "markdown",
   "metadata": {},
   "source": [
    "## Графы и лингвистика\n",
    "\n",
    "[Вот тут постоянно попоплняемая библиография работ о применении графов в лингвистике](https://www.cs.upc.edu/~rferrericancho/linguistic_and_cognitive_networks.html), её можно изучить и сделать что-нибудь великое. Но начнём с простого."
   ]
  },
  {
   "cell_type": "markdown",
   "metadata": {
    "collapsed": true
   },
   "source": [
    "## Задание\n",
    "\n",
    "Давайте возьмём некоторый большой текст (например, [такой](http://www.adventist.kz/download/education/gom/_plungyan_v.a._-_obstchaya_morfologiya.rar), только не забудьте пересохранить его как plain text), выделим в нём существительные, приведём их к словарной форме и построим граф, в котором все существительные будут связаны между собой в том случае, если они встречались в тексте на расстоянии 3 (или меньше) друг от друга больше 2 раз.\n",
    "\n",
    "То есть в тексте \n",
    "\n",
    "*Произвольность знака, по поводу которой мы выше допускали теоретическую возможность перемены. Углубляясь в вопрос, мы усматриваем, что в действительности самая произвольность знака защищает язык от всякой попытки, направленной к его изменению. Говорящая масса, будь она даже сознательнее, не могла бы обсуждать вопросы языка. Ведь для того чтобы подвергать обсуждению какую-либо вещь, надо, чтобы она отвечала какой-то разумной норме.* \n",
    "\n",
    "\n",
    "найдутся существительные *произвольность*, *знак*, *повод*, *возможность*, *перемена*, *вопрос*, *действительность*, *произвольность*, *знак*, *язык*, *попытка*, *изменение*, *масса*, *вопрос*, *язык*, *обсуждение*, *вещь*, *норма*.\n",
    "\n",
    "На расстоянии 3 от слова *повод* находятся слова *произвольность*, *знак*, *возможность*, *перемена*, *вопрос*.\n",
    "\n",
    "Теперь давайте узнаем самые центральные существительные в этом графе, его диаметр (можно узнать только если граф связанный), плотность, ассортативность, кластерный коэффициент. Ну и, конечно, нарисуем то, что у нас получилось.\n"
   ]
  }
 ],
 "metadata": {
  "kernelspec": {
   "display_name": "Python 3",
   "language": "python",
   "name": "python3"
  },
  "language_info": {
   "codemirror_mode": {
    "name": "ipython",
    "version": 3
   },
   "file_extension": ".py",
   "mimetype": "text/x-python",
   "name": "python",
   "nbconvert_exporter": "python",
   "pygments_lexer": "ipython3",
   "version": "3.6.7"
  }
 },
 "nbformat": 4,
 "nbformat_minor": 1
}
