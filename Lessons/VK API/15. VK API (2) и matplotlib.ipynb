{
 "cells": [
  {
   "cell_type": "markdown",
   "metadata": {},
   "source": [
    "### Практикуемся в работе с VK API\n",
    "\n",
    "\n",
    "1. Скачать список пользователей, состоящих в группе https://vk.com/dormitory8hse. Нарисовать столбчатую диаграмму, показывающую, сколько человек из каких городов состоит в группе.\n",
    "2. В той же группе скачать 1000 записей со стены. Нарисовать график, показывающий, сколько записей было написано в каждый час. Вывести записи, набравшие наибольшее количество лайков и с наибольшим числом комментариев.\n",
    "3. Скачать список пользователей, состоящих в группе https://vk.com/hse_university. Нарисовать столбчатую диаграмму, показывающую распределение пользователей по их году рождения. \n",
    "4. Найти, сколько в этой группе состоит пользователей, чьим университетом является не Вышка. Нарисовать диаграмму, показывающую распределение этих пользователей по университетам (если все не влезут, то 10 самых частотных университетов).\n",
    "4. Собрать корпус записей в группе Вышки и комментариев к ним (можно взять первые 10000 записей). Найти самые частотные биграммы в этом корпусе."
   ]
  },
  {
   "cell_type": "code",
   "execution_count": 1,
   "metadata": {
    "collapsed": true
   },
   "outputs": [],
   "source": [
    "import urllib.request\n",
    "import json"
   ]
  },
  {
   "cell_type": "code",
   "execution_count": 26,
   "metadata": {
    "collapsed": false
   },
   "outputs": [
    {
     "data": {
      "text/plain": [
       "4956"
      ]
     },
     "execution_count": 26,
     "metadata": {},
     "output_type": "execute_result"
    }
   ],
   "source": [
    "offsets = [0, 1000, 2000, 3000, 4000]\n",
    "users = set()\n",
    "for off in offsets:\n",
    "    req = urllib.request.Request('https://api.vk.com/method/groups.getMembers?group_id=dormitory8hse&v=5.23&offset=' + str(off))\n",
    "    response = urllib.request.urlopen(req)\n",
    "    result = response.read().decode('utf-8')\n",
    "    data = json.loads(result) \n",
    "    users = users | set(data['response']['items'])\n",
    "len(users)"
   ]
  },
  {
   "cell_type": "code",
   "execution_count": 37,
   "metadata": {
    "collapsed": false
   },
   "outputs": [
    {
     "name": "stdout",
     "output_type": "stream",
     "text": [
      "1001\n"
     ]
    }
   ],
   "source": [
    "cities = []\n",
    "i = 0\n",
    "for user in users:\n",
    "    if i > 1000:\n",
    "        break\n",
    "    req = urllib.request.Request('https://api.vk.com/method/users.get?v=5.23&user_ids={}&fields=home_town'.format(str(user)))\n",
    "    response = urllib.request.urlopen(req) # да, так тоже можно, не обязательно делать это с with, как в примере выше\n",
    "    result = response.read().decode('utf-8')\n",
    "    data = json.loads(result) \n",
    "    if 'home_town' not in (data['response'][0]):\n",
    "        continue\n",
    "    cities.append(data['response'][0]['home_town'])\n",
    "    i += 1\n",
    "print(len(cities))"
   ]
  },
  {
   "cell_type": "code",
   "execution_count": 38,
   "metadata": {
    "collapsed": false
   },
   "outputs": [],
   "source": [
    "cities = [city for city in cities if city != '']\n",
    "from collections import Counter\n",
    "cities = Counter(cities)"
   ]
  },
  {
   "cell_type": "code",
   "execution_count": 41,
   "metadata": {
    "collapsed": false
   },
   "outputs": [
    {
     "data": {
      "text/plain": [
       "{'Moscow': 4,\n",
       " 'Брянск': 7,\n",
       " 'Владивосток': 4,\n",
       " 'Владикавказ': 4,\n",
       " 'Владимир': 3,\n",
       " 'Воронеж': 5,\n",
       " 'Екатеринбург': 9,\n",
       " 'Ижевск': 10,\n",
       " 'Иркутск': 3,\n",
       " 'Казань': 9,\n",
       " 'Караганда': 3,\n",
       " 'Киров': 12,\n",
       " 'Кишинёв': 4,\n",
       " 'Краснодар': 3,\n",
       " 'Красноярск': 4,\n",
       " 'Липецк': 3,\n",
       " 'Москва': 59,\n",
       " 'Набережные Челны': 6,\n",
       " 'Нижний Новгород': 8,\n",
       " 'Новосибирск': 10,\n",
       " 'Одинцово': 5,\n",
       " 'Омск': 5,\n",
       " 'Пермь': 6,\n",
       " 'Ростов-на-Дону': 3,\n",
       " 'Рязань': 3,\n",
       " 'Самара': 6,\n",
       " 'Санкт-Петербург': 14,\n",
       " 'Саратов': 6,\n",
       " 'Тамбов': 5,\n",
       " 'Ташкент': 16,\n",
       " 'Тверь': 8,\n",
       " 'Тирасполь': 3,\n",
       " 'Тольятти': 3,\n",
       " 'Тула': 4,\n",
       " 'Уфа': 3,\n",
       " 'Чебоксары': 9,\n",
       " 'Челябинск': 8,\n",
       " 'москва': 3}"
      ]
     },
     "execution_count": 41,
     "metadata": {},
     "output_type": "execute_result"
    }
   ],
   "source": [
    "cities = dict(cities)\n",
    "cities = {c : cities[c] for c in cities if cities[c] > 2 and len(c) > 2}\n",
    "cities"
   ]
  },
  {
   "cell_type": "code",
   "execution_count": 40,
   "metadata": {
    "collapsed": false
   },
   "outputs": [
    {
     "name": "stderr",
     "output_type": "stream",
     "text": [
      "C:\\Users\\ancatmara\\Anaconda3\\lib\\site-packages\\matplotlib\\axes\\_axes.py:545: UserWarning: No labelled objects found. Use label='...' kwarg on individual plots.\n",
      "  warnings.warn(\"No labelled objects found. \"\n"
     ]
    },
    {
     "data": {
      "image/png": "[encoded data removed]",
      "text/plain": [
       "<matplotlib.figure.Figure at 0x210e24541d0>"
      ]
     },
     "metadata": {},
     "output_type": "display_data"
    }
   ],
   "source": [
    "import matplotlib.pyplot as plt\n",
    "\n",
    "city_nums = [cities[city] for city in cities]\n",
    "city_labs = [city for city in cities]\n",
    "plt.bar(range(len(city_labs)), city_nums)\n",
    "\n",
    "plt.title('Города в общежитии ВШЭ')\n",
    "plt.ylabel('Количество студентов')\n",
    "plt.xlabel('Город')\n",
    "plt.xticks(range(len(city_labs)), city_labs, rotation=90)\n",
    "plt.legend()\n",
    "plt.show()"
   ]
  }
 ],
 "metadata": {
  "kernelspec": {
   "display_name": "Python 3",
   "language": "python",
   "name": "python3"
  },
  "language_info": {
   "codemirror_mode": {
    "name": "ipython",
    "version": 3.0
   },
   "file_extension": ".py",
   "mimetype": "text/x-python",
   "name": "python",
   "nbconvert_exporter": "python",
   "pygments_lexer": "ipython3",
   "version": "3.6.0"
  }
 },
 "nbformat": 4,
 "nbformat_minor": 0
}