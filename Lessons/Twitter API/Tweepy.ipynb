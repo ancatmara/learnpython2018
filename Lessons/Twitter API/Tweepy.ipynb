{
 "cells": [
  {
   "cell_type": "markdown",
   "metadata": {},
   "source": [
    "# Твиттер и питон\n",
    "\n",
    "Твиттер - источник текстов довольно интересного жанра (микроблог), а еще возможность мониторить отражения событий, происходящих в мире. У Твиттера тоже есть API, так что можно писать программы для обращения к нему. Однако, как и в случае с Телеграмом, существуют питоновские модули для работы с этим API, например, Twython, Tweepy, twitter, python-twitter. Мы с вами будем работать с модулем Tweepy.  Для начала его нужно установить:"
   ]
  },
  {
   "cell_type": "code",
   "execution_count": null,
   "metadata": {
    "collapsed": false
   },
   "outputs": [],
   "source": [
    "pip install tweepy"
   ]
  },
  {
   "cell_type": "markdown",
   "metadata": {},
   "source": [
    "## Аккаунт и приложение\n",
    "Для того, чтобы работать с Твиттером через питон, нужно иметь аккаунт в Твиттере. Так что нужно зарегистрироваться, если у вас еще нет аккаунта. (Регистрация не очень тривиальная, т.к. требуется номер телефона, по которому вам позвонит робот и продиктует код подтверждения).\n",
    "\n",
    "Когда у вас есть аккаунт в твиттере, нужно создать приложение. Учтите, что если вы будете писать бота, то он будет постить твиты под тем аккаунтом, в котором вы создаете приложение (т.е. вы можете написать бота, который спамит в вашем личном аккаунте, или же зарегистрировать новый аккаунт специально под бота).\n",
    "\n",
    "Для того чтобы создать приложение, нужно:\n",
    "* перейти на https://apps.twitter.com/\n",
    "* нажать Create New App\n",
    "* ввести имя, описание и сайт приложения (в качестве сайта можно использовать профиль в твиттере, например twitter.com/username)\n",
    "* согласиться с Twitter Developer Agreement и нажать Create your Twitter application.\n",
    "\n",
    "Теперь у вас есть приложение, но нет ключей доступа. Давайте их сгенерируем, для этого нужно:\n",
    "* перейти во вкладку Permissions и убедиться, что там указано Read and Write,\n",
    "* перейти во вкладку Keys and Access Tokens и нажать кнопку Create my access token.\n",
    "\n",
    "Фуух! Это была самая сложная часть работы с твиттером. Остальное будет гораздо проще!\n",
    "\n",
    "## Credentials\n",
    "\n",
    "Токены, которые мы создали, нужно записать в специальный файл, например, `credentials.py`. Эти токены можно будет импортировать в другие модули строчкой `from credentials import *`. Не забудьте добавить строчку `credentials.py` в файл `.gitignore`!\n",
    "\n",
    "Файл `credentials.py` будет выглядеть так:"
   ]
  },
  {
   "cell_type": "code",
   "execution_count": null,
   "metadata": {
    "collapsed": true
   },
   "outputs": [],
   "source": [
    "consumer_key = '.....Consumer Key (API Key).......'\n",
    "consumer_secret = '....Consumer Secret (API Secret)..............'\n",
    "access_token = '........Access Token...............'\n",
    "access_token_secret = '......Access Token Secret..........'"
   ]
  },
  {
   "cell_type": "markdown",
   "metadata": {},
   "source": [
    "## Tweepy\n",
    "\n",
    "Создадим наш основной файл с кодом, например, `twitter_app.py`, и импортируем туда все необходимое:"
   ]
  },
  {
   "cell_type": "code",
   "execution_count": 2,
   "metadata": {
    "collapsed": true
   },
   "outputs": [],
   "source": [
    "import tweepy\n",
    "from credentials import *"
   ]
  },
  {
   "cell_type": "markdown",
   "metadata": {},
   "source": [
    "Теперь нужно авторизоваться в Твиттере через питон и создать экземпляр класса `tweepy.API`, через который и будет происходить вся наша работа с твиттером:"
   ]
  },
  {
   "cell_type": "code",
   "execution_count": 3,
   "metadata": {
    "collapsed": true
   },
   "outputs": [],
   "source": [
    "auth = tweepy.OAuthHandler(consumer_key, consumer_secret)\n",
    "auth.set_access_token(access_token, access_token_secret)\n",
    "api = tweepy.API(auth)"
   ]
  },
  {
   "cell_type": "markdown",
   "metadata": {},
   "source": [
    "Посмотреть, что можно делать с этим объектом можно в документации - http://docs.tweepy.org/en/v3.5.0/api.html.\n",
    "\n",
    "Например, можно получить юзера, к которому привязано приложение:"
   ]
  },
  {
   "cell_type": "code",
   "execution_count": 8,
   "metadata": {
    "collapsed": false
   },
   "outputs": [
    {
     "name": "stdout",
     "output_type": "stream",
     "text": [
      "My name is GalaxyFarFarAway,\n",
      "my screen name is FarGalaxyBot,\n",
      "I have 0 followers,\n",
      "I follow 2 accounts.\n"
     ]
    }
   ],
   "source": [
    "me = api.me()\n",
    "print(\"My name is {},\\nmy screen name is {},\\nI have {} followers,\\nI follow {} accounts.\".format(me.name, me.screen_name,\n",
    "                                                                                                  me.followers_count,\n",
    "                                                                                                  me.friends_count))"
   ]
  },
  {
   "cell_type": "markdown",
   "metadata": {},
   "source": [
    "Переменная `me` содержит объект типа `User`, у юзера есть множество атрибутов - имя, логин, количество фолловеров, лайков, постов, дата регистрации и т.д. Чтобы посмотреть, какие атрибуты есть у данного юзера, напечатайте в консоли `vars(me)`."
   ]
  },
  {
   "cell_type": "markdown",
   "metadata": {},
   "source": [
    "## Публикация постов"
   ]
  },
  {
   "cell_type": "markdown",
   "metadata": {},
   "source": [
    "С помощью api можно написать какой-то пост и отправить его в твиттер:"
   ]
  },
  {
   "cell_type": "code",
   "execution_count": null,
   "metadata": {
    "collapsed": true
   },
   "outputs": [],
   "source": [
    "tweet = \"A long time ago in a galaxy far, far away....\"\n",
    "api.update_status(tweet)"
   ]
  },
  {
   "cell_type": "markdown",
   "metadata": {},
   "source": [
    "Тут вы можете проверить, что галактический бот написал первый твит: https://twitter.com/FarGalaxyBot "
   ]
  },
  {
   "cell_type": "code",
   "execution_count": 36,
   "metadata": {
    "collapsed": false
   },
   "outputs": [
    {
     "name": "stdout",
     "output_type": "stream",
     "text": [
      "866450776100675585 FarGalaxyBot A long time ago in a galaxy far, far away....\n"
     ]
    }
   ],
   "source": [
    "my_last_tweet = api.user_timeline(count=1)[0]\n",
    "print(my_last_tweet.id, my_last_tweet.user.screen_name, my_last_tweet.text)"
   ]
  },
  {
   "cell_type": "markdown",
   "metadata": {},
   "source": [
    "Чтобы ответить на какой-то твит, в `update_status` нужно указать параметр `in_reply_to_status_id`:"
   ]
  },
  {
   "cell_type": "code",
   "execution_count": null,
   "metadata": {
    "collapsed": true
   },
   "outputs": [],
   "source": [
    "api.update_status(\"This is the static blue text featured in every Star Wars opening crawl.\", \n",
    "                  in_reply_to_status_id=my_last_tweet.id)"
   ]
  },
  {
   "cell_type": "markdown",
   "metadata": {},
   "source": [
    "Чтобы ретвитнуть твит, используем метод retweet - ему нужно передать id твита:"
   ]
  },
  {
   "cell_type": "code",
   "execution_count": null,
   "metadata": {
    "collapsed": true
   },
   "outputs": [],
   "source": [
    "api.retweet(my_last_tweet.id)"
   ]
  },
  {
   "cell_type": "markdown",
   "metadata": {},
   "source": [
    "## Все твиты юзера\n",
    "\n",
    "Чтобы скачать все твиты конкретного юзера, используется метод [`user_timeline`](http://docs.tweepy.org/en/v3.5.0/api.html#API.user_timeline). Например, нас с вами интересует твиттер Python Software Foundation - https://twitter.com/ThePSF."
   ]
  },
  {
   "cell_type": "code",
   "execution_count": 16,
   "metadata": {
    "collapsed": false
   },
   "outputs": [
    {
     "name": "stdout",
     "output_type": "stream",
     "text": [
      "865613678867083264 2017-05-19 17:02:38 2017 Frank Willson Memorial Award Goes To Katie Cunningham And Barbara Shaurette https://t.co/BdOB6BZuyM\n",
      "860139597594021891 2017-05-04 14:30:35 Attending PyCon 2017? Consider Becoming a Sponsor! https://t.co/HgIon058Hq\n",
      "857603572925689856 2017-04-27 14:33:19 Brian Costlow, “the quietly amazing rock” Python volunteer: Community Service Award… https://t.co/vOyWHVwIYu\n",
      "855454309219274752 2017-04-21 16:12:55 The Ego-less Developer: Community Service Award Recipient Ian Cordasco https://t.co/r4sYWT3kQx\n",
      "849695766096613376 2017-04-05 18:50:31 Pay What You Want for \"The Humble Book Bundle: Python\" and Benefit the PSF https://t.co/NtDWahWM9y\n"
     ]
    }
   ],
   "source": [
    "username = \"ThePSF\"\n",
    "num_tweets = 5  # максимум 200 твитов за раз\n",
    "tweets = api.user_timeline(screen_name=username, count=num_tweets)\n",
    "for tweet in tweets:\n",
    "    print(tweet.id_str, tweet.created_at, tweet.text)"
   ]
  },
  {
   "cell_type": "markdown",
   "metadata": {},
   "source": [
    "Чтобы получить следующие 5 твитов, используем параметр `page`:"
   ]
  },
  {
   "cell_type": "code",
   "execution_count": 17,
   "metadata": {
    "collapsed": false
   },
   "outputs": [
    {
     "name": "stdout",
     "output_type": "stream",
     "text": [
      "846932858719526912 2017-03-29 03:51:43 Python at Google Summer of Code: Apply by April 3 https://t.co/Xd9GF1YZ7q\n",
      "840182396649639938 2017-03-10 12:47:47 Ernest takes the call - Community Service Award Recipient Ernest Durbin III https://t.co/EijxwasNpZ\n",
      "830078631401635844 2017-02-10 15:39:02 Discovering the Python Community in Zimbabwe at their first PyCon https://t.co/TyTSu73TCp\n",
      "827543506197569536 2017-02-03 15:45:21 Pythonistas (and a Python!) at PyCon Jamaica https://t.co/zn7X9KkyDW\n",
      "826458948991479808 2017-01-31 15:55:42 Time To Upgrade Your Python: TLS v1.2 Will Soon Be Mandatory https://t.co/0cHQ8ENYQn\n"
     ]
    }
   ],
   "source": [
    "tweets = api.user_timeline(screen_name=username, count=num_tweets, page=2)\n",
    "for tweet in tweets:\n",
    "    print(tweet.id_str, tweet.created_at, tweet.text)"
   ]
  },
  {
   "cell_type": "markdown",
   "metadata": {},
   "source": [
    "Чтобы узнать, сколько у юзера твитов, достанем объект, соответствующий ему, с помощью `get_user`:"
   ]
  },
  {
   "cell_type": "code",
   "execution_count": 15,
   "metadata": {
    "collapsed": false
   },
   "outputs": [
    {
     "name": "stdout",
     "output_type": "stream",
     "text": [
      "2673\n"
     ]
    }
   ],
   "source": [
    "user = api.get_user(username)\n",
    "print(user.statuses_count)"
   ]
  },
  {
   "cell_type": "markdown",
   "metadata": {},
   "source": [
    "Значит, чтобы получить все твиты пользователя, нужно сначала узнать сколько у него всего постов, а затем в цикле скачать все посты (вспомните, как мы это делали с постами на стене вконтакте).\n",
    "\n",
    "Так делать можно, но есть более короткий вариант - с использованием `tweepy.Cursor`. Курсор перебирает твиты и обрабатывает страницы за нас, параметры, которые нужно передать в функцию `user_timeline` мы теперь передаем в сам курсор, а общее количество постов которые мы хотим получить указываем внутри `items()`, например можно написать `.items(5)`. Если мы хотим вообще все посты данного юзера, то можно написать просто `items()`. "
   ]
  },
  {
   "cell_type": "code",
   "execution_count": 19,
   "metadata": {
    "collapsed": false
   },
   "outputs": [
    {
     "name": "stdout",
     "output_type": "stream",
     "text": [
      "2017 Frank Willson Memorial Award Goes To Katie Cunningham And Barbara Shaurette https://t.co/BdOB6BZuyM\n",
      "Attending PyCon 2017? Consider Becoming a Sponsor! https://t.co/HgIon058Hq\n",
      "Brian Costlow, “the quietly amazing rock” Python volunteer: Community Service Award… https://t.co/vOyWHVwIYu\n",
      "The Ego-less Developer: Community Service Award Recipient Ian Cordasco https://t.co/r4sYWT3kQx\n",
      "Pay What You Want for \"The Humble Book Bundle: Python\" and Benefit the PSF https://t.co/NtDWahWM9y\n"
     ]
    }
   ],
   "source": [
    "for tweet in tweepy.Cursor(api.user_timeline, screen_name=username).items(5):\n",
    "    print(tweet.text)"
   ]
  },
  {
   "cell_type": "markdown",
   "metadata": {},
   "source": [
    "Может случиться так, что ваш курсор падает с ошибкой `RateLimitError` - это значит, что вы отправляете слишком много запросов. Чтобы обойти ошибку, нужно, чтобы бот после каждого превышения лимита ждал 15 минут: [Handling the rate limit using cursors](http://docs.tweepy.org/en/v3.5.0/code_snippet.html#handling-the-rate-limit-using-cursors)."
   ]
  },
  {
   "cell_type": "markdown",
   "metadata": {},
   "source": [
    "## Поиск по твитам\n",
    "\n",
    "Для поиска нужно использовать курсор и функцию [`search`](http://docs.tweepy.org/en/v3.5.0/api.html#API.search). \n",
    "\n",
    "Эта функция ожидает на вход обязательный параметр `q` - строка, которую мы ищем, и необязательные параметры, например, `lang`, `geocode`.\n",
    "Предположим, мы хотим найти 10 упоминаний слова \"добро\" в твитах на русском языке, исключая ретвиты."
   ]
  },
  {
   "cell_type": "code",
   "execution_count": 28,
   "metadata": {
    "collapsed": false
   },
   "outputs": [
    {
     "name": "stdout",
     "output_type": "stream",
     "text": [
      "Dobroedelo Чтобы любить добро, нужно всем сердцем ненавидеть зло. ф. Вольф\n",
      "Подписаться на Письма Добра https://t.co/ni4QYc2lXs https://t.co/tavPGbMO1t \n",
      "\n",
      "wifidadi А всё это добро, вы можете увидеть в музее первого президента России Бориса Николаевича Ельцина https://t.co/ghL8pZTuEp \n",
      "\n",
      "PotGarry Добро пожаловать, приятного Вам просмотра!\n",
      "Понравилось? Поставьте Лайк !! Поделитесь с друзьями новостью !!!... https://t.co/7xsqeBHCqG \n",
      "\n",
      "portalsek Честь изгнала, Добро ты потопила, Скорблю один, хоть всех постигнул рок.\n",
      "#BTSBBMAs \n",
      "\n",
      "dykajaqazod Добро должно быть с кулаками — если у него нет более современного оружия \n",
      "\n",
      "myknoss Видео \"Добро пожаловать! | GTA 5 MP #1\" (https://t.co/xGLx0yXh2C) на @YouTube добавлено в \n",
      "\n",
      "04RD04 внимание опрос. сотовый телефон - это зло или добро? \n",
      "\n",
      "tthirtyseven думаю я еще никому не помогала, я только хотела от людей что-то получить, а от тебя я ничего не жду - безвозмездное добро ради добра \n",
      "\n",
      "vl355 Улыбайтесь чаще 😇😇😇😇\n",
      "Возможно, от вашей улыбки улыбнется другой человек, и так далее!Дарите добро, смотрите! Смотрите? А теперь улыбнитесь 😇 \n",
      "\n",
      "231Svg Добро пожаловать в клуб https://t.co/yyJpVNvrWC \n",
      "\n"
     ]
    }
   ],
   "source": [
    "i = 0\n",
    "for tweet in tweepy.Cursor(api.search, q='добро', lang='ru').items():\n",
    "    if (not tweet.retweeted) and ('RT @' not in tweet.text):\n",
    "        print(tweet.user.screen_name, tweet.text, '\\n')\n",
    "        i += 1\n",
    "    if i >= 10:\n",
    "        break"
   ]
  },
  {
   "cell_type": "markdown",
   "metadata": {},
   "source": [
    "## Работа с потоком твитов\n",
    "\n",
    "Если нам нужно отслеживать определенные твиты и реагировать на них, как только они появляются, нам нужно использовать [Streaming API](http://docs.tweepy.org/en/v3.5.0/streaming_how_to.html).\n",
    "\n",
    "Например, как только кто-то упоминает в твиттере \"Звездные войны\", наш бот будет твитить об этом. \n",
    "Создадим массив фраз, которые мы будем постить:"
   ]
  },
  {
   "cell_type": "code",
   "execution_count": 39,
   "metadata": {
    "collapsed": true
   },
   "outputs": [],
   "source": [
    "import random\n",
    "\n",
    "phrases = [\"Кто-то только что написал твит о звездных войнах!\", \n",
    "           \"Опять говорят о стар варс\", \n",
    "           \"стар варс форевер\", \n",
    "           \"Еще один твит о звездных войнах!\",\n",
    "           \"Нет, мне еще не надоели Звездные войны.\",\n",
    "           \"Люк, я твой отец.\"]"
   ]
  },
  {
   "cell_type": "markdown",
   "metadata": {},
   "source": [
    "Теперь нам нужно создать класс, который будет собственно писать пост:"
   ]
  },
  {
   "cell_type": "code",
   "execution_count": 63,
   "metadata": {
    "collapsed": true
   },
   "outputs": [],
   "source": [
    "class StarWarsListener(tweepy.StreamListener):\n",
    "\n",
    "    def on_status(self, status):\n",
    "        if status.user.screen_name != \"FarGalaxyBot\":\n",
    "            print('Reply to user @{}, tweet: {}'.format(status.user.screen_name, status.text))\n",
    "            \n",
    "            api.update_status('@{} {} https://twitter.com/{}/status/{}'.format(\n",
    "                    status.user.screen_name, \n",
    "                    random.choice(phrases),\n",
    "                    status.user.screen_name,\n",
    "                    status.id\n",
    "                ), \n",
    "                              in_reply_to_status_id=status.id)  # постим рандомную фразу в ответ\n",
    "\n",
    "        \n",
    "    def on_error(self, status_code):\n",
    "        if status_code == 420:\n",
    "            # если окажется, что мы посылаем слишком много запросов, то отсоединяемся\n",
    "            return False\n",
    "        # если какая-то другая ошибка, постараемся слушать поток дальше\n",
    "        return True"
   ]
  },
  {
   "cell_type": "markdown",
   "metadata": {},
   "source": [
    "Создаем поток, который будет фильтровать твиты:"
   ]
  },
  {
   "cell_type": "code",
   "execution_count": 64,
   "metadata": {
    "collapsed": false
   },
   "outputs": [],
   "source": [
    "starWarsListener = StarWarsListener()\n",
    "myStream = tweepy.Stream(auth = api.auth, listener=starWarsListener)"
   ]
  },
  {
   "cell_type": "markdown",
   "metadata": {},
   "source": [
    "Начинаем фильтровать:"
   ]
  },
  {
   "cell_type": "code",
   "execution_count": null,
   "metadata": {
    "collapsed": true
   },
   "outputs": [],
   "source": [
    "myStream.filter(track=['звездные войны', 'star wars'])"
   ]
  },
  {
   "cell_type": "markdown",
   "metadata": {},
   "source": [
    "## Правила и рекомендации\n",
    "\n",
    "Теперь вы умеете делать твиттерботов, но использовать это умение нужно во благо. Рекомендуем вам ознакомиться с правилами автоматизации в Твиттере (то есть с правилами создания ботов) - https://support.twitter.com/articles/20174733. "
   ]
  },
  {
   "cell_type": "markdown",
   "metadata": {},
   "source": [
    "## Twitter и компьютерная лингвистика\n",
    "\n",
    "Приложение для твиттера может делать много всего интересного и с исследовательской точки зрения. Например, [классификацию пользователей по тому, как они пишут](http://www.aaai.org/ocs/index.php/ICWSM/ICWSM11/paper/download/2886/3262), [выяснение того, насколько людям понравился какой-то фильм](https://habrahabr.ru/company/dca/blog/274027/) и т.д. Это мощный инструмент изучения общественного мнения (но и языка тоже), а ещё с помощью твиттер-ботов можно [стать русским хакером и повлиять на выборы в США](https://ain.ua/2016/11/11/kak-boty-v-twitter-vliyali-na-vybory-v-ssha)."
   ]
  }
 ],
 "metadata": {
  "kernelspec": {
   "display_name": "Python 3",
   "language": "python",
   "name": "python3"
  },
  "language_info": {
   "codemirror_mode": {
    "name": "ipython",
    "version": 3.0
   },
   "file_extension": ".py",
   "mimetype": "text/x-python",
   "name": "python",
   "nbconvert_exporter": "python",
   "pygments_lexer": "ipython3",
   "version": "3.4.2"
  }
 },
 "nbformat": 4,
 "nbformat_minor": 0
}